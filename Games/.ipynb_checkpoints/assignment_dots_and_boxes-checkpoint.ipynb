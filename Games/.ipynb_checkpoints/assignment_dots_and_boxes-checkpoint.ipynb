{
 "cells": [
  {
   "cell_type": "markdown",
   "metadata": {
    "id": "9AwyruawtiQ1"
   },
   "source": [
    "## Task 1: Defining the Search Problem [10 point]\n",
    "\n",
    "Define the components of the search problem associated with this game:\n",
    "\n",
    "* **Initial** state: Empty n\\*m grid of dots\n",
    "* **Actions**: Adding a single horizontal or vertical line between two unjoined adjacent dots\n",
    "* **Transition model**: Adding one choosed line on the board according to the action. The opponent places here line.\n",
    "* **Test for the terminal state**: if all boxes have been colored\n",
    "* **Utility for terminal states**: -1(less boxes are painted in own colors) for lose, 0(Both sides occupy an equal number of boxes) for draw and +1(more boxes are painted in own colors) for win"
   ]
  },
  {
   "cell_type": "markdown",
   "metadata": {
    "id": "p9nmRgustiQx"
   },
   "source": [
    "# Adversarial Search: Playing Dots and Boxes\n",
    "\n",
    "\n",
    "## Instructions\n",
    "\n",
    "Total Points: Undegraduates 100, graduate students 110\n",
    "\n",
    "Complete this notebook and submit it. The notebook needs to be a complete project report with your implementation, documentation including a short discussion of how your implementation works and your design choices, and experimental results (e.g., tables and charts with simulation results) with a short discussion of what they mean. Use the provided notebook cells and insert additional code and markdown cells as needed.\n",
    "\n",
    "## Introduction\n",
    "\n",
    "You will implement different versions of agents that play the game Dots and Boxes:\n",
    "\n",
    "> \"Dots and Boxes is a pencil-and-paper game for two players. The game starts with an empty grid of dots. Usually two players take turns adding a single horizontal or vertical line between two unjoined adjacent dots. A player who completes the fourth side of a 1x1 box earns one point and takes another turn. A point is typically recorded by placing a mark that identifies the player in the box, such as an initial. The game ends when no more lines can be placed. The winner is the player with the most points. The board may be of any size grid.\" (see [Dots and Boxes on Wikipedia](https://en.wikipedia.org/wiki/Dots_and_Boxes))\n",
    "\n",
    "You can play Dots and Boxes [here](https://www.math.ucla.edu/~tom/Games/dots&boxes.html)."
   ]
  },
  {
   "cell_type": "markdown",
   "metadata": {
    "id": "xPngcxExtiQ3"
   },
   "source": [
    "How big is the state space? Give an estimate and explain it."
   ]
  },
  {
   "cell_type": "markdown",
   "metadata": {
    "id": "wINkAaAvtiQ3"
   },
   "source": [
    "Each state is a possible board. If the size of board is consist of n\\*m dots. Because the lines(between two dos) have two kinds of state, which are linked or not and the boxes have three kinds of state, which are colored by one side, colored by the other side, and uncolored. Therefore, the number of states in the state space graph is less than(if n = 4 and m = 4):"
   ]
  },
  {
   "cell_type": "code",
   "execution_count": 1,
   "metadata": {},
   "outputs": [
    {
     "data": {
      "text/plain": [
       "46656"
      ]
     },
     "execution_count": 1,
     "metadata": {},
     "output_type": "execute_result"
    }
   ],
   "source": [
    "n = 4\n",
    "m = 4\n",
    "(((n - 1) * m + (m - 1) * n) ** 2) * ((m - 1) * (n - 1) ** 3)"
   ]
  },
  {
   "cell_type": "markdown",
   "metadata": {
    "id": "F4iN4QQMtiQ3"
   },
   "source": [
    "How big is the game tree that minimax search will go through? Give an estimate and explain it."
   ]
  },
  {
   "cell_type": "markdown",
   "metadata": {},
   "source": [
    "Since there are most (n-1)\\*m + (m-1)\\*n lines can be choosed in n\\*m board. We observe the following:\n",
    "\n",
    "- The complete search tree has a maximal depth m = (2\\*m\\*n-m-n)\n",
    "- The max branching factor b = (2\\*m\\*n-m-n) (for first move)\n",
    "\n",
    "DFS has\n",
    "\n",
    "* a space complexity of $O(bm)$ (current path plus frontier) and \n",
    "* a time complecity of $O(b^m)$ (number of expanded nodes)."
   ]
  },
  {
   "cell_type": "code",
   "execution_count": 2,
   "metadata": {
    "id": "jhow1fQTtiQ4"
   },
   "outputs": [
    {
     "data": {
      "text/plain": [
       "576"
      ]
     },
     "execution_count": 2,
     "metadata": {},
     "output_type": "execute_result"
    }
   ],
   "source": [
    "(2 * m * n - m - n) * (2 * m * n - m - n)"
   ]
  },
  {
   "cell_type": "code",
   "execution_count": 3,
   "metadata": {},
   "outputs": [
    {
     "data": {
      "text/plain": [
       "1333735776850284124449081472843776"
      ]
     },
     "execution_count": 3,
     "metadata": {},
     "output_type": "execute_result"
    }
   ],
   "source": [
    "(2 * m * n - m - n) ** (2 * m * n - m - n)"
   ]
  },
  {
   "cell_type": "markdown",
   "metadata": {},
   "source": [
    "However, the branching factor decreases after each move. The first level has a branching factor of (2\\*m\\*n-m-n), the second a branching factor of (2\\*m\\*n-m-n)-1, etc. The total number of nodes is:"
   ]
  },
  {
   "cell_type": "code",
   "execution_count": 4,
   "metadata": {},
   "outputs": [
    {
     "name": "stdout",
     "output_type": "stream",
     "text": [
      "level\t# nodes\n",
      "root\t 1\n",
      "0 \t 24\n",
      "1 \t 552\n",
      "2 \t 12144\n",
      "3 \t 255024\n",
      "4 \t 5100480\n",
      "5 \t 96909120\n",
      "6 \t 1744364160\n",
      "7 \t 29654190720\n",
      "8 \t 474467051520\n",
      "9 \t 7117005772800\n",
      "10 \t 99638080819200\n",
      "11 \t 1295295050649600\n",
      "12 \t 15543540607795200\n",
      "13 \t 170978946685747200\n",
      "14 \t 1709789466857472000\n",
      "15 \t 15388105201717248000\n",
      "16 \t 123104841613737984000\n",
      "17 \t 861733891296165888000\n",
      "18 \t 5170403347776995328000\n",
      "19 \t 25852016738884976640000\n",
      "20 \t 103408066955539906560000\n",
      "21 \t 310224200866619719680000\n",
      "22 \t 620448401733239439360000\n",
      "23 \t 620448401733239439360000\n"
     ]
    },
    {
     "data": {
      "text/plain": [
       "1686553615927922354187744"
      ]
     },
     "execution_count": 4,
     "metadata": {},
     "output_type": "execute_result"
    }
   ],
   "source": [
    "sum = 0\n",
    "fac = 1\n",
    "\n",
    "print(\"level\\t# nodes\")\n",
    "print(\"root\\t 1\")\n",
    "\n",
    "for i in range((2 * m * n - m - n), 0, -1):\n",
    "    fac *= i\n",
    "    sum += fac \n",
    "    print((2 * m * n - m - n)-i, \"\\t\",fac)\n",
    "       \n",
    "sum"
   ]
  },
  {
   "cell_type": "markdown",
   "metadata": {
    "id": "Kd6yz80BtiQ4"
   },
   "source": [
    "## Task 2: Game Environment and Random Agent [30 point]\n",
    "\n",
    "You need to think about a data structure to represent the board meaning he placed lines and who finished what box. There are many options. Let's represent the board using a simple dictionary where `n` and `m` represents the number of dots horizontaly and vertically, respectively. Everybody needs to use the same representation so we can let agents play against each other later. "
   ]
  },
  {
   "cell_type": "code",
   "execution_count": 5,
   "metadata": {
    "id": "hvaFEEqHtiQ5",
    "outputId": "8b156615-1731-4fe0-e4ac-27930a31e5d1"
   },
   "outputs": [
    {
     "data": {
      "text/plain": [
       "{'n': 4,\n",
       " 'm': 4,\n",
       " 'r': [(2, 2)],\n",
       " 'b': [(1, 1)],\n",
       " ('v', 0, 0): True,\n",
       " ('h', 0, 0): True,\n",
       " ('v', 1, 0): True,\n",
       " ('v', 0, 1): True,\n",
       " ('h', 0, 1): True,\n",
       " ('h', 1, 1): True,\n",
       " ('v', 1, 1): True,\n",
       " ('v', 2, 1): True,\n",
       " ('h', 1, 2): True}"
      ]
     },
     "metadata": {},
     "output_type": "display_data"
    },
    {
     "data": {
      "image/png": "[encoded data removed]",
      "text/plain": [
       "<Figure size 432x288 with 1 Axes>"
      ]
     },
     "metadata": {
      "needs_background": "light"
     },
     "output_type": "display_data"
    }
   ],
   "source": [
    "def empty_board(n = 4,m = 4):\n",
    "    board = {\n",
    "        'n': n,  ### hoizontal dots\n",
    "        'm': m,   ### vertical dots\n",
    "        'r': [],  ### boxes for x player\n",
    "        'b': []   ### boxes for o player\n",
    "    }\n",
    "    return board\n",
    "    \n",
    "\n",
    "def draw_box(board,player,row,col):\n",
    "    \n",
    "    if row > board['n'] or col > board['m']:\n",
    "        return False\n",
    "    elif row <= 0 or col <= 0:\n",
    "        return False\n",
    "    \n",
    "    # Add (row, col) to the value of 'r'/'b' key of board dictionary \n",
    "    board[player].append((row,col))\n",
    "    return True\n",
    "\n",
    "def draw_line(board, orientation, row, col, player):\n",
    "    \"\"\"\n",
    "    Place a line on an exiting board.\n",
    "       \n",
    "    Parameters\n",
    "    ----------\n",
    "    board: dict\n",
    "        the board\n",
    "    orientation: str\n",
    "        either 'h' or 'v' for horizontal or vertical\n",
    "    row, col: int\n",
    "        index of the starting dot for the line (starting with 0)\n",
    "    \n",
    "    \"\"\"\n",
    " \n",
    "    if orientation not in ['h', 'v']:\n",
    "        return 0\n",
    "        \n",
    "    if row < 0 or col < 0:\n",
    "        return 0\n",
    "        \n",
    "    if row >= board['n'] - 1 + (orientation == 'v') or col >= board['m'] - 1 + (orientation == 'h'):\n",
    "        return 0\n",
    "        \n",
    "    if (orientation, row, col) in board:\n",
    "        return 0\n",
    "            \n",
    "    board[(orientation, row, col)] = True\n",
    "    \n",
    "    \n",
    "    vlines = []\n",
    "    hlines = []\n",
    "    isDraw = False\n",
    "    \n",
    "    # get vertical lines and horizontal lines\n",
    "    for key,value in board.items():\n",
    "        if value == True:\n",
    "            if key[0] == 'v':\n",
    "                vlines.append((key[1],key[2]))\n",
    "            else:\n",
    "                hlines.append((key[1],key[2]))\n",
    "                \n",
    "    # check box    \n",
    "    if orientation == 'v':\n",
    "        # check if there are three other lines that can form a box\n",
    "        if (row-1,col) in vlines:\n",
    "            if (row-1,col) in hlines and (row-1,col+1) in hlines:\n",
    "                isDraw = draw_box(board,player,col+1,row)\n",
    "        if (row+1,col) in vlines:\n",
    "            if (row,col) in hlines and (row,col+1) in hlines:\n",
    "                isDraw = draw_box(board,player,col+1,row+1)\n",
    "    if orientation == 'h':\n",
    "        if (row,col+1) in hlines:\n",
    "            if (row,col) in vlines and (row+1,col) in vlines:\n",
    "                isDraw = draw_box(board,player,col+1,row+1)\n",
    "        if (row,col-1) in hlines:\n",
    "            if (row+1,col-1) in vlines and (row,col-1) in vlines:\n",
    "                isDraw = draw_box(board,player,col,row+1)\n",
    "                \n",
    "    if isDraw:\n",
    "        return 2\n",
    "    else:\n",
    "        return 1\n",
    "\n",
    "\n",
    "    \n",
    "board = empty_board(4,4)\n",
    "draw_line(board, \"v\", 0, 0,'b')\n",
    "draw_line(board, \"h\", 0, 0,'r')\n",
    "\n",
    "draw_line(board, \"v\", 1, 0,'b')\n",
    "draw_line(board, \"v\", 0, 1,'r')\n",
    "\n",
    "draw_line(board, \"h\", 0, 1,'b')\n",
    "\n",
    "draw_line(board, \"h\", 1, 1,'b')\n",
    "draw_line(board, \"v\", 1, 1,'r')\n",
    "draw_line(board, \"v\", 2, 1,'b')\n",
    "draw_line(board, \"h\", 1, 2,'r')\n",
    "\n",
    "display(board)\n",
    "show_board(board)"
   ]
  },
  {
   "cell_type": "markdown",
   "metadata": {
    "id": "9kDhNvAqtiQ6"
   },
   "source": [
    "Write code to display the board. **Bonus point: Post your visualization code with an example output to the discussion board. The best visualization will earn you bonus participation points in this class.**"
   ]
  },
  {
   "cell_type": "code",
   "execution_count": 4,
   "metadata": {
    "id": "CjOeHo7qtiQ7",
    "scrolled": true
   },
   "outputs": [],
   "source": [
    "# Your code/ answer goes here.\n",
    "import matplotlib.pyplot as plt\n",
    "from matplotlib import colors\n",
    "import numpy as np\n",
    "\n",
    "def show_board(board, cols = [\"white\",\"blue\",\"red\"], fontsize = 10):\n",
    "    \n",
    "    n = board['n'] + 1\n",
    "    m = board['m'] + 1\n",
    "    \n",
    "    dots = []\n",
    "    lines = []\n",
    "    display = np.zeros([n+1,m+1])\n",
    "    \n",
    "    r = board['r']\n",
    "    b = board['b']\n",
    "    \n",
    "    for pos in b:\n",
    "        display[pos[0],pos[1]] = 1\n",
    "    for pos in r:\n",
    "        display[pos[0],pos[1]] = 2\n",
    "    \n",
    "    # get dots positions\n",
    "    for i in range(1,n):\n",
    "        for j in range(1,m):\n",
    "            dots.append((i,j))\n",
    "            \n",
    "    # get vertical lines and horizontal lines\n",
    "    for key,value in board.items():\n",
    "        if value == True:\n",
    "            if key[0] == 'v':\n",
    "                lines.append([(key[1]+1,key[2]+1),(key[1]+1,key[2]+2)])\n",
    "            else:\n",
    "                lines.append([(key[1]+1,key[2]+1),(key[1]+2,key[2]+1)])\n",
    "                \n",
    "    \n",
    "    cmap = colors.ListedColormap(cols)\n",
    "    fig, ax = plt.subplots()\n",
    "    plt.axis('off')\n",
    "    \n",
    "    # display boxes\n",
    "    ax.imshow(display, cmap = cmap, \n",
    "          norm = colors.BoundaryNorm(range(len(cols)+1), cmap.N))\n",
    "    \n",
    "    # display dots\n",
    "    for dot in dots:\n",
    "        x = dot[0]\n",
    "        y = dot[1]\n",
    "        ax.scatter(x-.5, y-.5,color='k')\n",
    "    \n",
    "    # display lines\n",
    "    for line in lines:\n",
    "        tmp = []\n",
    "        for dot in line:\n",
    "            tmp.append([dot[0]-.5,dot[1]-.5])\n",
    "        x, y = zip(*tmp)\n",
    "        ax.plot(x,y,color = \"k\")\n",
    "  \n",
    "    \n",
    "    plt.show()"
   ]
  },
  {
   "cell_type": "code",
   "execution_count": 6,
   "metadata": {},
   "outputs": [
    {
     "data": {
      "image/png": "[encoded data removed]",
      "text/plain": [
       "<Figure size 432x288 with 1 Axes>"
      ]
     },
     "metadata": {
      "needs_background": "light"
     },
     "output_type": "display_data"
    }
   ],
   "source": [
    "show_board(board)"
   ]
  },
  {
   "cell_type": "markdown",
   "metadata": {
    "id": "_rGRunj4tiQ7"
   },
   "source": [
    "Implement helper functions for:\n",
    "\n",
    "* The transition model $result(s, a)$.\n",
    "* The utility function $utility(s)$.\n",
    "* Check for terminal states $terminal(s)$.\n",
    "* A check for available actions in each state $actions(s)$.\n",
    "\n",
    "Make sure that all these functions work with boards of different sizes (number of columns and rows as stored in the board)."
   ]
  },
  {
   "cell_type": "code",
   "execution_count": 7,
   "metadata": {
    "id": "_F_kHa4jtiQ7"
   },
   "outputs": [],
   "source": [
    "def get_actions(board):\n",
    "    n = board['n']\n",
    "    m = board['m']\n",
    "    \n",
    "    actions = []\n",
    "    \n",
    "    for i in range(n):\n",
    "        for j in range(m):\n",
    "            \n",
    "            if j != m-1:\n",
    "                action = ('v',i,j) \n",
    "                if action not in board and action not in actions:\n",
    "                    actions.append(action)\n",
    "                    \n",
    "            if i != n-1:\n",
    "                action = ('h',i,j)\n",
    "                if action not in board and action not in actions:\n",
    "                    actions.append(action)\n",
    "                    \n",
    "    # random.shuffle(actions)\n",
    "    return actions"
   ]
  },
  {
   "cell_type": "code",
   "execution_count": 8,
   "metadata": {},
   "outputs": [
    {
     "name": "stdout",
     "output_type": "stream",
     "text": [
      "{'n': 4, 'm': 4, 'r': [(2, 2)], 'b': [(1, 1)], ('v', 0, 0): True, ('h', 0, 0): True, ('v', 1, 0): True, ('v', 0, 1): True, ('h', 0, 1): True, ('h', 1, 1): True, ('v', 1, 1): True, ('v', 2, 1): True, ('h', 1, 2): True}\n",
      "\n",
      "[('v', 0, 2), ('h', 0, 2), ('h', 0, 3), ('h', 1, 0), ('v', 1, 2), ('h', 1, 3), ('v', 2, 0), ('h', 2, 0), ('h', 2, 1), ('v', 2, 2), ('h', 2, 2), ('h', 2, 3), ('v', 3, 0), ('v', 3, 1), ('v', 3, 2)]\n"
     ]
    }
   ],
   "source": [
    "print(board)\n",
    "print()\n",
    "print(get_actions(board))"
   ]
  },
  {
   "cell_type": "code",
   "execution_count": 9,
   "metadata": {},
   "outputs": [],
   "source": [
    "import copy\n",
    "\n",
    "def result(board, player, action):\n",
    "    state = copy.deepcopy(board)\n",
    "    \n",
    "    orientation = action[0]\n",
    "    row = action[1]\n",
    "    col = action[2]\n",
    "    \n",
    "    flag = draw_line(state,orientation,row,col,player)\n",
    "    \n",
    "    return state,flag\n"
   ]
  },
  {
   "cell_type": "code",
   "execution_count": 10,
   "metadata": {},
   "outputs": [
    {
     "data": {
      "image/png": "[encoded data removed]",
      "text/plain": [
       "<Figure size 432x288 with 1 Axes>"
      ]
     },
     "metadata": {
      "needs_background": "light"
     },
     "output_type": "display_data"
    },
    {
     "name": "stdout",
     "output_type": "stream",
     "text": [
      "State for 'r' placing an horizontal line at position (0,2):\n"
     ]
    },
    {
     "data": {
      "image/png": "[encoded data removed]",
      "text/plain": [
       "<Figure size 432x288 with 1 Axes>"
      ]
     },
     "metadata": {
      "needs_background": "light"
     },
     "output_type": "display_data"
    }
   ],
   "source": [
    "show_board(board)\n",
    "print(\"State for 'r' placing an horizontal line at position (0,2):\")\n",
    "res,flag = result(board,'r',('h',0,2))\n",
    "show_board(res)"
   ]
  },
  {
   "cell_type": "code",
   "execution_count": 11,
   "metadata": {},
   "outputs": [],
   "source": [
    "def other(player):\n",
    "    if player == \"b\": return \"r\"\n",
    "    else: return \"b\""
   ]
  },
  {
   "cell_type": "code",
   "execution_count": 12,
   "metadata": {},
   "outputs": [
    {
     "name": "stdout",
     "output_type": "stream",
     "text": [
      "r\n"
     ]
    }
   ],
   "source": [
    "print(other('b'))"
   ]
  },
  {
   "cell_type": "code",
   "execution_count": 13,
   "metadata": {},
   "outputs": [],
   "source": [
    "def check_win(board):\n",
    "    n = board['n']\n",
    "    m = board['m']\n",
    "    boxes = (n-1)*(m-1)\n",
    "    \n",
    "    r = len(board['r'])\n",
    "    b = len(board['b'])\n",
    "    \n",
    "    if r + b == boxes:\n",
    "        if r > b:\n",
    "            return 'r'\n",
    "        elif b > r:\n",
    "            return 'b'\n",
    "        else:\n",
    "            return 'd'\n",
    "    return 'n'"
   ]
  },
  {
   "cell_type": "code",
   "execution_count": 14,
   "metadata": {},
   "outputs": [],
   "source": [
    "def utility(state, player = 'b'):\n",
    "    # print(state)\n",
    "    goal = check_win(state)\n",
    "    # print(\"goal\",goal)\n",
    "    if goal == player: \n",
    "        return +1\n",
    "    if goal == 'd': \n",
    "        return 0\n",
    "    if goal == other(player): \n",
    "        return -1\n",
    "    return None"
   ]
  },
  {
   "cell_type": "code",
   "execution_count": 15,
   "metadata": {},
   "outputs": [
    {
     "name": "stdout",
     "output_type": "stream",
     "text": [
      "None\n"
     ]
    }
   ],
   "source": [
    "print(utility(board))"
   ]
  },
  {
   "cell_type": "code",
   "execution_count": 16,
   "metadata": {},
   "outputs": [],
   "source": [
    "def is_terminal(state):\n",
    "    return check_win(state) != \"n\""
   ]
  },
  {
   "cell_type": "code",
   "execution_count": 17,
   "metadata": {},
   "outputs": [
    {
     "name": "stdout",
     "output_type": "stream",
     "text": [
      "False\n",
      "True\n"
     ]
    }
   ],
   "source": [
    "print(is_terminal(board))\n",
    "board['r'] = [(1,1),(1,2),(1,3),(2,1),(2,2)]\n",
    "board['b'] = [(2,3),(3,1),(3,2),(3,3)]\n",
    "print(is_terminal(board))"
   ]
  },
  {
   "cell_type": "markdown",
   "metadata": {
    "id": "1bSNDR9ptiQ8"
   },
   "source": [
    "Implement an agent that plays randomly. Make sure the agent function receives as the percept the board and returns a valid action. Use an agent function definition with the following signature (arguments):\n",
    "\n",
    "`def random_player(board, player = None): ...`\n",
    "\n",
    "The argument `player` is used for agents that do not store what side they are playing. The value passed on bt yhe environment should be 1 ot -1 for playerred and yellow, respectively.  See [Experiments section for tic-tac-toe](https://nbviewer.org/github/mhahsler/CS7320-AI/blob/master/Games/tictactoe_and_or_tree_search.ipynb#Experiments) for an example."
   ]
  },
  {
   "cell_type": "code",
   "execution_count": 18,
   "metadata": {
    "id": "3TbIpxRFtiQ8"
   },
   "outputs": [],
   "source": [
    "import random\n",
    "def random_player(board, player = None):\n",
    "    return random.choice(get_actions(board))"
   ]
  },
  {
   "cell_type": "code",
   "execution_count": 19,
   "metadata": {},
   "outputs": [
    {
     "name": "stdout",
     "output_type": "stream",
     "text": [
      "('v', 3, 0)\n"
     ]
    }
   ],
   "source": [
    "print(random_player(board))"
   ]
  },
  {
   "cell_type": "markdown",
   "metadata": {
    "id": "fQn06Zv6tiQ8"
   },
   "source": [
    "Let two random agents play against each other 1000 times. Look at the [Experiments section for tic-tac-toe](https://nbviewer.org/github/mhahsler/CS7320-AI/blob/master/Games/tictactoe_and_or_tree_search.ipynb#Experiments) to see how the environment uses the agent functions to play against each other.\n",
    "\n",
    "How often does each player win? Is the result expected?"
   ]
  },
  {
   "cell_type": "code",
   "execution_count": 20,
   "metadata": {
    "id": "FmMqcVg6tiQ9",
    "tags": []
   },
   "outputs": [],
   "source": [
    "def switch_player(player, b, r):\n",
    "    if player == 'b':\n",
    "        return 'r', r\n",
    "    else:\n",
    "        return 'b', b\n",
    "    \n",
    "def play(b, r, n = 5, m = 5,N = 1000):\n",
    "    \n",
    "    results = {\n",
    "        'b': 0,\n",
    "        'r': 0,\n",
    "        'd': 0\n",
    "    }\n",
    "    \n",
    "    for i in range(N):\n",
    "        \n",
    "        board = empty_board(n,m)\n",
    "        \n",
    "        flag = -1\n",
    "        player,fun = 'b', b\n",
    "        \n",
    "        while True:\n",
    "            action = fun(board,player)\n",
    "            board,flag = result(board, player, action)\n",
    "            \n",
    "            # check if the game is over\n",
    "            win = check_win(board)\n",
    "            if win != 'n':\n",
    "                results[win] += 1\n",
    "                break\n",
    "            if flag == 2:\n",
    "                continue\n",
    "            player, fun = switch_player(player,b,r)\n",
    "    return results"
   ]
  },
  {
   "cell_type": "markdown",
   "metadata": {},
   "source": [
    "### Random vs. Random"
   ]
  },
  {
   "cell_type": "code",
   "execution_count": 23,
   "metadata": {},
   "outputs": [
    {
     "data": {
      "text/plain": [
       "{'b': 45, 'r': 49, 'd': 6}"
      ]
     },
     "metadata": {},
     "output_type": "display_data"
    },
    {
     "name": "stdout",
     "output_type": "stream",
     "text": [
      "CPU times: user 393 ms, sys: 7.16 ms, total: 400 ms\n",
      "Wall time: 427 ms\n"
     ]
    },
    {
     "data": {
      "text/plain": [
       "{'b': 454, 'r': 473, 'd': 73}"
      ]
     },
     "metadata": {},
     "output_type": "display_data"
    },
    {
     "name": "stdout",
     "output_type": "stream",
     "text": [
      "CPU times: user 3.74 s, sys: 51.5 ms, total: 3.79 s\n",
      "Wall time: 3.88 s\n"
     ]
    }
   ],
   "source": [
    "%time display(play(random_player, random_player, N = 100))\n",
    "%time display(play(random_player, random_player, N = 1000))"
   ]
  },
  {
   "cell_type": "markdown",
   "metadata": {
    "id": "6ALRTmWFtiQ9"
   },
   "source": [
    "## Task 3: Minimax Search with Alpha-Beta Pruning [30 points]\n",
    "\n",
    "### Implement the search starting.\n",
    "\n",
    "Implement the search starting from a given board and specifying the player and put it into an agent function.\n",
    "You can use code from the [tic-tac-toe example](https://nbviewer.org/github/mhahsler/CS7320-AI/blob/master/Games/tictactoe_alpha_beta_tree_search.ipynb).\n",
    "\n",
    "__Notes:__ \n",
    "* Make sure that all your agent functions have a signature consistent with the random agent above.\n",
    "* The search space for larger board may be too large. You can experiment with smaller boards."
   ]
  },
  {
   "cell_type": "code",
   "execution_count": 24,
   "metadata": {
    "id": "oiTWIuvQtiQ9"
   },
   "outputs": [],
   "source": [
    "import math\n",
    "\n",
    "DEBUG = 1\n",
    "COUNT = 0\n",
    "\n",
    "def alpha_beta_search(board, player = 'b'):\n",
    "    global COUNT, DEBUG\n",
    "    COUNT = 0\n",
    "    \n",
    "    value, move = max_value_ab(board, player, -math.inf, +math.inf)\n",
    "    \n",
    "    if DEBUG >= 1:\n",
    "        print(f'Number of nodes searched: {COUNT}')\n",
    "    \n",
    "    return {\"move\": move, \"value\":value}\n",
    "\n",
    "# Player's best move\n",
    "def max_value_ab(state, player, alpha, beta,last_player = None, last_score = None):\n",
    "    \"\"\" \n",
    "    last_player and last_score used to check who is the next move.\n",
    "    The scoring side of the last round must go one step further.\n",
    "    \"\"\"\n",
    "    global COUNT, DEBUG\n",
    "    COUNT += 1\n",
    "    \n",
    "    v = utility(state, player)\n",
    "\n",
    "    # return utility of state is a terminal state\n",
    "    if v is not None: \n",
    "        return v, None\n",
    "    \n",
    "    v, move = -math.inf, None\n",
    "   \n",
    "    # check all possible actions in the state\n",
    "    # update alpha and return move with the largest value\n",
    "    for a in get_actions(state):\n",
    "        \n",
    "        tmp_state, flag = result(state, player, a)\n",
    "       \n",
    "        # check the first scored side\n",
    "        if flag == 2 and last_score == None and last_player != player:\n",
    "            last_score = player\n",
    "        \n",
    "        # which side to go next\n",
    "        if flag == 2 and player == last_score:\n",
    "            v2, a2 = max_value_ab(tmp_state, player, alpha, beta, last_player = player, last_score =player)\n",
    "        else:\n",
    "            v2, a2 = min_value_ab(tmp_state, player, alpha, beta, last_player = player)\n",
    "        \n",
    "        if v2 > v:\n",
    "            v, move = v2, a\n",
    "            alpha = max(alpha, v)\n",
    "        if v >= beta: \n",
    "            return v, move                     \n",
    "            \n",
    "    return v, move\n",
    "\n",
    "# opponent's best response\n",
    "def min_value_ab(state, player, alpha, beta, last_player = None, last_score = None):\n",
    "    global COUNT, DEBUG\n",
    "    COUNT += 1\n",
    "    \n",
    "    v = utility(state, player)\n",
    "    \n",
    "    # return utility of state is a terminal state\n",
    "    if v is not None: \n",
    "        # print(\"RETURN\")\n",
    "        return v, None\n",
    "    \n",
    "    v, move = math.inf, None\n",
    "   \n",
    "    # check all possible actions in the state\n",
    "    # update alpha and return move with the largest value\n",
    "    for a in get_actions(state):\n",
    "\n",
    "        tmp_state, flag = result(state, other(player), a)\n",
    "     \n",
    "        # check the first scored side\n",
    "        if flag == 2 and last_score == None and last_player != other(player):\n",
    "            last_score = other(player)\n",
    "        \n",
    "         # which side to go next\n",
    "        if flag == 2 and other(player) == last_score:\n",
    "            v2, a2 = min_value_ab(tmp_state, player, alpha, beta, last_player = other(player), last_score =other(player)) \n",
    "        else:\n",
    "            v2, a2 = max_value_ab(tmp_state, player, alpha, beta, last_player = other(player))\n",
    "        \n",
    "        if v2 < v:\n",
    "            v, move = v2, a\n",
    "            beta = min(beta, v)\n",
    "        if v <= alpha: \n",
    "            return v, move \n",
    "\n",
    "    return v, move\n",
    "\n"
   ]
  },
  {
   "cell_type": "markdown",
   "metadata": {
    "id": "51VrFvIbtiQ9"
   },
   "source": [
    "Experiment with some manually created boards (at least 5) to check if the agent spots winning opportunities."
   ]
  },
  {
   "cell_type": "markdown",
   "metadata": {
    "id": "v9_-yxT6tiQ9"
   },
   "source": [
    "## Some Tests\n",
    "\n",
    "### Blue('b') will score a point"
   ]
  },
  {
   "cell_type": "code",
   "execution_count": 25,
   "metadata": {},
   "outputs": [
    {
     "data": {
      "image/png": "[encoded data removed]",
      "text/plain": [
       "<Figure size 432x288 with 1 Axes>"
      ]
     },
     "metadata": {
      "needs_background": "light"
     },
     "output_type": "display_data"
    },
    {
     "name": "stdout",
     "output_type": "stream",
     "text": [
      "Number of nodes searched: 10134\n"
     ]
    },
    {
     "data": {
      "text/plain": [
       "{'move': ('v', 1, 0), 'value': 0}"
      ]
     },
     "metadata": {},
     "output_type": "display_data"
    },
    {
     "name": "stdout",
     "output_type": "stream",
     "text": [
      "CPU times: user 510 ms, sys: 7.95 ms, total: 518 ms\n",
      "Wall time: 529 ms\n"
     ]
    }
   ],
   "source": [
    "board = empty_board(3,3)\n",
    "\n",
    "draw_line(board, \"h\", 0, 0,'b')\n",
    "draw_line(board, \"v\", 0, 0,'b')\n",
    "draw_line(board, \"h\", 0, 1,'b')\n",
    "\n",
    "show_board(board)\n",
    "\n",
    "%time display(alpha_beta_search(board))"
   ]
  },
  {
   "cell_type": "markdown",
   "metadata": {},
   "source": [
    "### Blue can only score a maximum of one point"
   ]
  },
  {
   "cell_type": "code",
   "execution_count": 26,
   "metadata": {},
   "outputs": [
    {
     "data": {
      "image/png": "[encoded data removed]",
      "text/plain": [
       "<Figure size 432x288 with 1 Axes>"
      ]
     },
     "metadata": {
      "needs_background": "light"
     },
     "output_type": "display_data"
    },
    {
     "name": "stdout",
     "output_type": "stream",
     "text": [
      "Number of nodes searched: 40\n"
     ]
    },
    {
     "data": {
      "text/plain": [
       "{'move': ('v', 0, 1), 'value': -1}"
      ]
     },
     "metadata": {},
     "output_type": "display_data"
    },
    {
     "name": "stdout",
     "output_type": "stream",
     "text": [
      "CPU times: user 3.79 ms, sys: 527 µs, total: 4.32 ms\n",
      "Wall time: 4.29 ms\n"
     ]
    }
   ],
   "source": [
    "board = empty_board(3,3)\n",
    "\n",
    "draw_line(board, \"v\", 0, 0,'b')\n",
    "draw_line(board, \"v\", 2, 1,'b')\n",
    "\n",
    "draw_line(board, \"h\", 0, 0,'b')\n",
    "draw_line(board, \"h\", 1, 0,'b')\n",
    "draw_line(board, \"h\", 0, 1,'b')\n",
    "draw_line(board, \"h\", 0, 2,'b')\n",
    "draw_line(board, \"h\", 1, 2,'b')\n",
    "\n",
    "draw_line(board, \"v\", 1, 0,'b')\n",
    "\n",
    "show_board(board)\n",
    "\n",
    "%time display(alpha_beta_search(board))\n"
   ]
  },
  {
   "cell_type": "markdown",
   "metadata": {},
   "source": [
    "### Blue('b') is about to win \n",
    "(play ('v',0,1) or ('v',1,0) or ('h',1,1))"
   ]
  },
  {
   "cell_type": "code",
   "execution_count": 27,
   "metadata": {},
   "outputs": [
    {
     "data": {
      "image/png": "[encoded data removed]",
      "text/plain": [
       "<Figure size 432x288 with 1 Axes>"
      ]
     },
     "metadata": {
      "needs_background": "light"
     },
     "output_type": "display_data"
    },
    {
     "name": "stdout",
     "output_type": "stream",
     "text": [
      "Number of nodes searched: 47\n"
     ]
    },
    {
     "data": {
      "text/plain": [
       "{'move': ('v', 0, 1), 'value': 1}"
      ]
     },
     "metadata": {},
     "output_type": "display_data"
    },
    {
     "name": "stdout",
     "output_type": "stream",
     "text": [
      "CPU times: user 3.78 ms, sys: 411 µs, total: 4.2 ms\n",
      "Wall time: 4.27 ms\n"
     ]
    }
   ],
   "source": [
    "board = empty_board(3,3)\n",
    "\n",
    "draw_line(board, \"v\", 0, 0,'b')\n",
    "draw_line(board, \"v\", 1, 1,'b')\n",
    "draw_line(board, \"v\", 2, 1,'b')\n",
    "\n",
    "draw_line(board, \"h\", 0, 0,'b')\n",
    "draw_line(board, \"h\", 1, 0,'b')\n",
    "draw_line(board, \"h\", 0, 1,'b')\n",
    "draw_line(board, \"h\", 0, 2,'b')\n",
    "draw_line(board, \"h\", 1, 2,'b')\n",
    "\n",
    "show_board(board)\n",
    "\n",
    "%time display(alpha_beta_search(board))"
   ]
  },
  {
   "cell_type": "markdown",
   "metadata": {},
   "source": [
    "### Empty board: Only a draw can be guaranteed"
   ]
  },
  {
   "cell_type": "code",
   "execution_count": 28,
   "metadata": {},
   "outputs": [
    {
     "data": {
      "image/png": "[encoded data removed]",
      "text/plain": [
       "<Figure size 432x288 with 1 Axes>"
      ]
     },
     "metadata": {
      "needs_background": "light"
     },
     "output_type": "display_data"
    },
    {
     "name": "stdout",
     "output_type": "stream",
     "text": [
      "Number of nodes searched: 900\n"
     ]
    },
    {
     "data": {
      "text/plain": [
       "{'move': ('v', 1, 0), 'value': 0}"
      ]
     },
     "metadata": {},
     "output_type": "display_data"
    },
    {
     "name": "stdout",
     "output_type": "stream",
     "text": [
      "CPU times: user 31.9 ms, sys: 1.85 ms, total: 33.7 ms\n",
      "Wall time: 35.5 ms\n"
     ]
    }
   ],
   "source": [
    "board = empty_board(3,2)\n",
    "\n",
    "show_board(board)\n",
    "\n",
    "%time display(alpha_beta_search(board))"
   ]
  },
  {
   "cell_type": "markdown",
   "metadata": {},
   "source": [
    "### Blue is about to win no matter what Red does "
   ]
  },
  {
   "cell_type": "code",
   "execution_count": 29,
   "metadata": {},
   "outputs": [
    {
     "data": {
      "image/png": "[encoded data removed]",
      "text/plain": [
       "<Figure size 432x288 with 1 Axes>"
      ]
     },
     "metadata": {
      "needs_background": "light"
     },
     "output_type": "display_data"
    },
    {
     "name": "stdout",
     "output_type": "stream",
     "text": [
      "Number of nodes searched: 5\n"
     ]
    },
    {
     "data": {
      "text/plain": [
       "{'move': ('h', 2, 3), 'value': -1}"
      ]
     },
     "metadata": {},
     "output_type": "display_data"
    },
    {
     "name": "stdout",
     "output_type": "stream",
     "text": [
      "CPU times: user 1.51 ms, sys: 259 µs, total: 1.77 ms\n",
      "Wall time: 1.68 ms\n"
     ]
    }
   ],
   "source": [
    "board = empty_board(4,4)\n",
    "\n",
    "draw_line(board, \"v\", 0, 0,'b')\n",
    "draw_line(board, \"v\", 0, 1,'b')\n",
    "draw_line(board, \"v\", 0, 2,'b')\n",
    "\n",
    "draw_line(board, \"v\", 1, 0,'b')\n",
    "draw_line(board, \"v\", 1, 1,'b')\n",
    "draw_line(board, \"v\", 1, 2,'b')\n",
    "\n",
    "draw_line(board, \"v\", 2, 0,'b')\n",
    "draw_line(board, \"v\", 2, 1,'b')\n",
    "draw_line(board, \"v\", 2, 2,'b')\n",
    "\n",
    "draw_line(board, \"v\", 3, 0,'b')\n",
    "draw_line(board, \"v\", 3, 1,'b')\n",
    "\n",
    "\n",
    "draw_line(board, \"h\", 0, 0,'b')\n",
    "draw_line(board, \"h\", 0, 1,'b')\n",
    "draw_line(board, \"h\", 0, 2,'b')\n",
    "draw_line(board, \"h\", 0, 3,'b')\n",
    "\n",
    "draw_line(board, \"h\", 1, 0,'b')\n",
    "draw_line(board, \"h\", 1, 1,'b')\n",
    "draw_line(board, \"h\", 1, 2,'b')\n",
    "draw_line(board, \"h\", 1, 3,'b')\n",
    "\n",
    "draw_line(board, \"h\", 2, 0,'b')\n",
    "draw_line(board, \"h\", 2, 1,'b')\n",
    "draw_line(board, \"h\", 2, 2,'b')\n",
    "\n",
    "show_board(board)\n",
    "\n",
    "%time display(alpha_beta_search(board,\"r\"))"
   ]
  },
  {
   "cell_type": "markdown",
   "metadata": {
    "id": "NfKAWjCDtiQ9"
   },
   "source": [
    "How long does it take to make a move? Start with a smaller board make the board larger. What is the largest board you can solve?"
   ]
  },
  {
   "cell_type": "code",
   "execution_count": 30,
   "metadata": {},
   "outputs": [
    {
     "name": "stdout",
     "output_type": "stream",
     "text": [
      "Number of nodes searched: 900\n"
     ]
    },
    {
     "data": {
      "text/plain": [
       "{'move': ('v', 1, 0), 'value': 0}"
      ]
     },
     "metadata": {},
     "output_type": "display_data"
    },
    {
     "name": "stdout",
     "output_type": "stream",
     "text": [
      "CPU times: user 29.1 ms, sys: 1.94 ms, total: 31 ms\n",
      "Wall time: 30.4 ms\n"
     ]
    }
   ],
   "source": [
    "board = empty_board(3,2)\n",
    "%time display(alpha_beta_search(board))"
   ]
  },
  {
   "cell_type": "code",
   "execution_count": 31,
   "metadata": {
    "id": "4NgzoQQKtiQ-"
   },
   "outputs": [
    {
     "name": "stdout",
     "output_type": "stream",
     "text": [
      "Number of nodes searched: 289655\n"
     ]
    },
    {
     "data": {
      "text/plain": [
       "{'move': ('v', 0, 0), 'value': 1}"
      ]
     },
     "metadata": {},
     "output_type": "display_data"
    },
    {
     "name": "stdout",
     "output_type": "stream",
     "text": [
      "CPU times: user 14.3 s, sys: 194 ms, total: 14.5 s\n",
      "Wall time: 15 s\n"
     ]
    }
   ],
   "source": [
    "board = empty_board(3,3)\n",
    "%time display(alpha_beta_search(board))"
   ]
  },
  {
   "cell_type": "markdown",
   "metadata": {
    "id": "5xgxAtqqtiQ-"
   },
   "source": [
    "### Move ordering\n",
    "\n",
    "Starting the search with better moves will increase the efficiency of alpha-beta pruning. Describe and implement a simple move ordering strategy. Make a table that shows how the ordering strategies influence the time it takes to make a move?"
   ]
  },
  {
   "cell_type": "markdown",
   "metadata": {},
   "source": [
    "Smart move reordering can make alpha-beta pruning more effective. I think I think it is good to go down the middle first and try to extend it. I implement move reordering in the `get_action()`."
   ]
  },
  {
   "cell_type": "code",
   "execution_count": 32,
   "metadata": {
    "id": "c0NWPetitiQ-"
   },
   "outputs": [],
   "source": [
    "def get_actions(board):\n",
    "    n = board['n']\n",
    "    m = board['m']\n",
    "    \n",
    "    actions = []\n",
    "    \n",
    "    for i in range(n):\n",
    "        for j in range(m):\n",
    "            \n",
    "            if j != m-1:\n",
    "                action = ('v',i,j) \n",
    "                if action not in board and action not in actions:\n",
    "                    actions.append(action)\n",
    "                    \n",
    "            if i != n-1:\n",
    "                action = ('h',i,j)\n",
    "                if action not in board and action not in actions:\n",
    "                    actions.append(action)\n",
    "            num_actions =len(actions)\n",
    "            index = 0\n",
    "    for i in range(math.floor(num_actions/2), math.floor(num_actions/4), -1):\n",
    "        # print(i,index)\n",
    "        actions[index], actions[i] = actions[i], actions[index]\n",
    "        index += 1\n",
    "                \n",
    "            \n",
    "                    \n",
    "    # random.shuffle(actions)\n",
    "    return actions"
   ]
  },
  {
   "cell_type": "code",
   "execution_count": 33,
   "metadata": {},
   "outputs": [
    {
     "data": {
      "text/plain": [
       "[('h', 1, 0),\n",
       " ('v', 1, 0),\n",
       " ('h', 0, 2),\n",
       " ('h', 0, 1),\n",
       " ('v', 0, 1),\n",
       " ('h', 0, 0),\n",
       " ('v', 0, 0),\n",
       " ('v', 1, 1),\n",
       " ('h', 1, 1),\n",
       " ('h', 1, 2),\n",
       " ('v', 2, 0),\n",
       " ('v', 2, 1)]"
      ]
     },
     "execution_count": 33,
     "metadata": {},
     "output_type": "execute_result"
    }
   ],
   "source": [
    "board = empty_board(3,3)   \n",
    "# show_board(board)\n",
    "get_actions(board)"
   ]
  },
  {
   "cell_type": "markdown",
   "metadata": {
    "id": "Wlfw0ZvntiQ-"
   },
   "source": [
    "### The first few moves\n",
    "\n",
    "Start with an empty board. This is the worst case scenario for minimax search with alpha-beta pruning since it needs solve all possible games that can be played (minus some pruning) before making the decision. What can you do? "
   ]
  },
  {
   "cell_type": "markdown",
   "metadata": {},
   "source": [
    "#### Answer\n",
    "1. Always choose the first few lines on the center without searching the game tree.\n",
    "2. Set a limit for the number of total move. For example, if the board is 4* 4, set the move limit(depth) to be 8.\n",
    "3. If there is a immediate score oppotunity put the line on that to get the score."
   ]
  },
  {
   "cell_type": "markdown",
   "metadata": {
    "id": "LYwcOUDBtiQ_"
   },
   "source": [
    "### Playtime\n",
    "\n",
    "Let the Minimax Search agent play a random agent on a small board. Analyze wins, losses and draws."
   ]
  },
  {
   "cell_type": "code",
   "execution_count": 34,
   "metadata": {
    "id": "gr6E1DDztiQ_"
   },
   "outputs": [
    {
     "data": {
      "text/plain": [
       "{'b': 0, 'r': 97, 'd': 3}"
      ]
     },
     "metadata": {},
     "output_type": "display_data"
    },
    {
     "name": "stdout",
     "output_type": "stream",
     "text": [
      "CPU times: user 1.34 s, sys: 22.8 ms, total: 1.36 s\n",
      "Wall time: 1.44 s\n"
     ]
    },
    {
     "data": {
      "text/plain": [
       "{'b': 0, 'r': 0, 'd': 100}"
      ]
     },
     "metadata": {},
     "output_type": "display_data"
    },
    {
     "name": "stdout",
     "output_type": "stream",
     "text": [
      "CPU times: user 2.59 s, sys: 30.5 ms, total: 2.62 s\n",
      "Wall time: 2.67 s\n"
     ]
    }
   ],
   "source": [
    "# Your code/ answer goes here.\n",
    "DEBUG = 0\n",
    "def alpha_beta_player(board, player = 'b'):\n",
    "    return alpha_beta_search(board, player)['move']\n",
    "\n",
    "%time display(play(random_player,alpha_beta_player,3, 2, N = 100))\n",
    "%time display(play(alpha_beta_player,random_player,3, 2, N = 100))"
   ]
  },
  {
   "cell_type": "markdown",
   "metadata": {
    "id": "1g_Ugg5stiQ_"
   },
   "source": [
    "## Task 4: Heuristic Alpha-Beta Tree Search [30 points] \n",
    "\n",
    "### Heuristic evaluation function\n",
    "\n",
    "Define and implement a heuristic evaluation function."
   ]
  },
  {
   "cell_type": "code",
   "execution_count": 35,
   "metadata": {
    "id": "UiEGwPQgtiQ_"
   },
   "outputs": [],
   "source": [
    "# get long chains\n",
    "def get_chains(state):\n",
    "    n = state['n']\n",
    "    m = state['m']\n",
    "    \n",
    "    x = n * 2 - 1\n",
    "    y = m * 2 - 1\n",
    "    \n",
    "    board = np.zeros(shape = (y, x))\n",
    "    boxes = []\n",
    "    \n",
    "    # Create board matrix\n",
    "    for i in range(y):\n",
    "        for j in range(x):\n",
    "            if i % 2 == 0 and j % 2 == 0:\n",
    "                board[i][j] = -1\n",
    "            elif i % 2 == 1 and j % 2 == 1:\n",
    "                board[i][j] = 1\n",
    "                boxes.append((i,j))\n",
    "    \n",
    "    vlines, hlines = [], []\n",
    "    for key, value in state.items():\n",
    "        if value == True:\n",
    "            if key[0] == 'v':\n",
    "                vlines.append((key[1],key[2]))\n",
    "            else:\n",
    "                hlines.append((key[1],key[2]))\n",
    "    for vline in vlines:\n",
    "        row, col = vline[0], vline[1]\n",
    "        board[col * 2 + 1][row * 2] = 2\n",
    "\n",
    "    for hline in hlines:\n",
    "        row, col = hline[0], hline[1]        \n",
    "        board[col * 2][row * 2 + 1] = 2\n",
    "                \n",
    "    \n",
    "    # count boxes with 2 open degree\n",
    "    open2_boxes = set()\n",
    "    for box in boxes:\n",
    "        row, col = box[0], box[1]\n",
    "        open_degree = board[row+1][col] + board[row-1][col] + board[row][col+1] +board[row][col-1]\n",
    "        if open_degree == 4:\n",
    "            open2_boxes.add(box)\n",
    "\n",
    "    links = []\n",
    "    \n",
    "    # select the boxes that are connected and the common edges are not occupied\n",
    "    # group them in a set\n",
    "    for box in open2_boxes:\n",
    "        \n",
    "        row, col = box[0], box[1]\n",
    "        neighbors = []\n",
    "        is_add = False\n",
    "        \n",
    "        if (row+2, col) in open2_boxes:\n",
    "            if board[row+1][col] == 0:\n",
    "                neighbors.append((row+2, col))\n",
    "        if (row-2, col) in open2_boxes:\n",
    "            if board[row-1][col] == 0:\n",
    "                neighbors.append((row-2, col))\n",
    "        if (row, col+2) in open2_boxes:\n",
    "            if board[row][col+1] == 0:\n",
    "                neighbors.append((row, col+2))\n",
    "        if (row, col-2) in open2_boxes:\n",
    "            if board[row][col-1] == 0:\n",
    "                neighbors.append((row, col-2))\n",
    "        \n",
    "        if len(neighbors) != 0:\n",
    "            for link in links:\n",
    "                if box in link:\n",
    "                    link = link.union(neighbors)\n",
    "                    is_add = True\n",
    "            if not is_add:   \n",
    "                neighbors.append(box)\n",
    "                links.append(set(neighbors))\n",
    "                \n",
    "    return links\n",
    "'''\n",
    "Heuristic for utility of state. Returns score for a node:\n",
    "1. For terminal states it returns the utility. \n",
    "2. For non-terminal states:\n",
    "    Suppose the playing field is a rectangle of m rows and n columns and so has mn boxes. \n",
    "    If both m and n are even, then the first player should play to make the number of long chains odd. \n",
    "    If either m or n is odd, then the first player should play to make the number of long chains even.\n",
    "    Therefore, I calculated the number of long chains and its length, \n",
    "    and divided the lengths of which were odd and even by the total number of boxes as scores, \n",
    "    respectively, according to the board.\n",
    "'''\n",
    "\n",
    "def eval_fun(state, player = 'b'):\n",
    "    \n",
    "    u = utility(state, player)\n",
    "    if u is not None:\n",
    "        return u, True\n",
    "    \n",
    "    score = 0\n",
    "    \n",
    "    n = state['n'] - 1\n",
    "    m = state['m'] - 1\n",
    "    boxes = n * m\n",
    "    \n",
    "    links = get_chains(state)\n",
    "    odd, even = 0, 0\n",
    "    \n",
    "    for link in links:\n",
    "        link_len = len(link)\n",
    "        if link_len % 2 == 0:\n",
    "            even += link_len/boxes\n",
    "        else:\n",
    "            odd += link_len/boxes\n",
    "    \n",
    "    # forehand\n",
    "    if player == 'b':\n",
    "        # Both are even numbers\n",
    "        if n % 2 == 0 and m % 2 == 0:\n",
    "            score += odd\n",
    "            # score -= even\n",
    "        else:\n",
    "            score += even\n",
    "            # score -= odd\n",
    "    # backhanded\n",
    "    else:\n",
    "        if n % 2 == 0 and  m % 2 ==0:\n",
    "            score += even\n",
    "            # score -= odd\n",
    "        else:\n",
    "            score += odd\n",
    "            # score -= even\n",
    "    return score, False\n",
    "    \n"
   ]
  },
  {
   "cell_type": "code",
   "execution_count": null,
   "metadata": {},
   "outputs": [],
   "source": []
  },
  {
   "cell_type": "code",
   "execution_count": 36,
   "metadata": {},
   "outputs": [
    {
     "name": "stdout",
     "output_type": "stream",
     "text": [
      "Have a odd length long link and a even length short link.\n"
     ]
    },
    {
     "data": {
      "image/png": "[encoded data removed]",
      "text/plain": [
       "<Figure size 432x288 with 1 Axes>"
      ]
     },
     "metadata": {
      "needs_background": "light"
     },
     "output_type": "display_data"
    },
    {
     "name": "stdout",
     "output_type": "stream",
     "text": [
      "(0.2222222222222222, False)\n",
      "\n",
      "Have a even length long link.\n"
     ]
    },
    {
     "data": {
      "image/png": "[encoded data removed]",
      "text/plain": [
       "<Figure size 432x288 with 1 Axes>"
      ]
     },
     "metadata": {
      "needs_background": "light"
     },
     "output_type": "display_data"
    },
    {
     "name": "stdout",
     "output_type": "stream",
     "text": [
      "(0.2222222222222222, False)\n",
      "\n",
      "No link.\n"
     ]
    },
    {
     "data": {
      "image/png": "[encoded data removed]",
      "text/plain": [
       "<Figure size 432x288 with 1 Axes>"
      ]
     },
     "metadata": {
      "needs_background": "light"
     },
     "output_type": "display_data"
    },
    {
     "name": "stdout",
     "output_type": "stream",
     "text": [
      "(0, False)\n"
     ]
    },
    {
     "data": {
      "image/png": "[encoded data removed]",
      "text/plain": [
       "<Figure size 432x288 with 1 Axes>"
      ]
     },
     "metadata": {
      "needs_background": "light"
     },
     "output_type": "display_data"
    },
    {
     "name": "stdout",
     "output_type": "stream",
     "text": [
      "(0, False)\n"
     ]
    }
   ],
   "source": [
    "print(\"Have a odd length long link and a even length short link.\")\n",
    "board = empty_board(4,4)\n",
    "\n",
    "draw_line(board, \"v\", 0, 0,'b')\n",
    "draw_line(board, \"v\", 1, 0,'b')\n",
    "draw_line(board, \"v\", 1, 1,'b')\n",
    "draw_line(board, \"v\", 1, 2,'b')\n",
    "draw_line(board, \"v\", 2, 2,'b')\n",
    "\n",
    "draw_line(board, \"h\", 2, 0,'b')\n",
    "draw_line(board, \"h\", 2, 1,'b')\n",
    "draw_line(board, \"h\", 2, 2,'b')\n",
    "draw_line(board, \"h\", 1, 1,'b')\n",
    "\n",
    "show_board(board)\n",
    "\n",
    "print(eval_fun(board))\n",
    "\n",
    "print(\"\\nHave a even length long link.\")\n",
    "board = empty_board(4,4)\n",
    "\n",
    "draw_line(board, \"v\", 0, 0,'b')\n",
    "draw_line(board, \"v\", 1, 0,'b')\n",
    "draw_line(board, \"v\", 1, 2,'b')\n",
    "draw_line(board, \"v\", 2, 2,'b')\n",
    "\n",
    "draw_line(board, \"h\", 2, 0,'b')\n",
    "draw_line(board, \"h\", 2, 1,'b')\n",
    "draw_line(board, \"h\", 2, 2,'b')\n",
    "draw_line(board, \"h\", 1, 1,'b')\n",
    "\n",
    "show_board(board)\n",
    "\n",
    "print(eval_fun(board))\n",
    "\n",
    "print(\"\\nNo link.\")\n",
    "board = empty_board(4,4)\n",
    "\n",
    "draw_line(board, \"h\", 2, 0,'b')\n",
    "draw_line(board, \"h\", 2, 1,'b')\n",
    "draw_line(board, \"h\", 2, 2,'b')\n",
    "draw_line(board, \"h\", 1, 1,'b')\n",
    "\n",
    "show_board(board)\n",
    "\n",
    "print(eval_fun(board))\n",
    "\n",
    "board = empty_board(4,4)\n",
    "show_board(board)\n",
    "print(eval_fun(board))"
   ]
  },
  {
   "cell_type": "markdown",
   "metadata": {
    "id": "t256i0ZPtiQ_"
   },
   "source": [
    "### Cutting off search \n",
    "\n",
    "Modify your Minimax Search with Alpha-Beta Pruning to cut off search at a specified depth and use the heuristic evaluation function. Experiment with different cutoff values."
   ]
  },
  {
   "cell_type": "code",
   "execution_count": 37,
   "metadata": {
    "id": "BPkzNqSgtiQ_"
   },
   "outputs": [],
   "source": [
    "import math\n",
    "\n",
    "DEBUG = 1\n",
    "COUNT = 0\n",
    "\n",
    "def alpha_beta_search(board, cutoff = None, player = 'b'):\n",
    "    global COUNT,DEBUG\n",
    "    COUNT = 0\n",
    "    \n",
    "    value, move = max_value_ab(board, player, -math.inf, +math.inf, 0, cutoff)\n",
    "    \n",
    "    if DEBUG >= 1:\n",
    "        print(f'Number of nodes searched (cut off = {cutoff}): {COUNT}')\n",
    "    \n",
    "    return {\"move\": move, \"value\":value}\n",
    "\n",
    "# Player's best move\n",
    "def max_value_ab(state, player, alpha, beta, depth, cutoff, \n",
    "                 last_player = None, last_score = None):\n",
    "    \"\"\" \n",
    "    last_player and last_score used to check who is the next move.\n",
    "    The scoring side of the last round must go one step further.\n",
    "    \"\"\"\n",
    "    global COUNT,DEBUG\n",
    "    COUNT += 1\n",
    "    \n",
    "    v, terminal = eval_fun(state, player)\n",
    "\n",
    "    # cut off and terminal test\n",
    "    if (cutoff is not None and depth >= cutoff) or terminal:\n",
    "        if terminal:\n",
    "            alpha, beta = v, v\n",
    "        if DEBUG >= 2:\n",
    "            print(f'Stopped at {depth}: {state} term: {terminal} eval: {v} [{alpha}, {beta}]')\n",
    "        return v, None\n",
    "\n",
    "\n",
    "    v, move = -math.inf, None\n",
    "   \n",
    "\n",
    "    # check all possible actions in the state, update alpha and return move with the largest value\n",
    "    for a in get_actions(state):\n",
    "        \n",
    "        tmp_state, flag = result(state, player, a)\n",
    "        \n",
    "        # check the first scored side\n",
    "        if flag == 2 and last_score == None and last_player != player:\n",
    "            last_score = player\n",
    "\n",
    "        # which side to go next\n",
    "        if flag == 2 and player == last_score:\n",
    "            v2, a2 = max_value_ab(tmp_state, player, alpha, beta, depth + 1, cutoff, last_player = player, last_score =player)\n",
    "        else:\n",
    "            v2, a2 = min_value_ab(tmp_state, player, alpha, beta, depth + 1, cutoff, last_player = player)\n",
    "        \n",
    "        if v2 > v:\n",
    "            v, move = v2, a\n",
    "            alpha = max(alpha, v)\n",
    "        if v >= beta: \n",
    "            return v, move\n",
    "                        \n",
    "            \n",
    "    return v, move\n",
    "\n",
    "# opponent's best response\n",
    "def min_value_ab(state, player, alpha, beta, depth, cutoff, last_player = None, last_score = None):\n",
    "    global COUNT, DEBUG\n",
    "    COUNT += 1\n",
    "    \n",
    "    v, terminal = eval_fun(state, player)\n",
    "    \n",
    "    # cut off and terminal test\n",
    "    if (cutoff is not None and depth >= cutoff) or terminal:\n",
    "        if terminal:\n",
    "            alpha, beta = v, v\n",
    "            if DEBUG >= 2:\n",
    "                print(f'Stopped at {depth}: {state} term: {terminal} eval: {v} [{alpha}, {beta}]')\n",
    "        return v, None\n",
    "            \n",
    "    \n",
    "    v, move = math.inf, None\n",
    "   # check all possible actions in the state, update alpha and return move with the largest value\n",
    "    for a in get_actions(state):\n",
    "\n",
    "        tmp_state, flag = result(state, other(player), a)\n",
    "        \n",
    "        # check the first scored side\n",
    "        if flag == 2 and last_score == None and last_player != other(player):\n",
    "            last_score = other(player)\n",
    "            \n",
    "        # which side to go next\n",
    "        if flag == 2 and other(player) == last_score:\n",
    "            v2, a2 = min_value_ab(tmp_state, player, alpha, beta, depth + 1, cutoff, last_player = other(player), last_score =other(player)) \n",
    "        else:\n",
    "            v2, a2 = max_value_ab(tmp_state, player, alpha, beta, depth + 1, cutoff, last_player = other(player))\n",
    "        \n",
    "        if v2 < v:\n",
    "            v, move = v2, a\n",
    "            beta = min(beta, v)\n",
    "        if v <= alpha: \n",
    "            return v, move \n",
    "\n",
    "    return v, move\n",
    "\n"
   ]
  },
  {
   "cell_type": "markdown",
   "metadata": {
    "id": "82ItOL15tiQ_"
   },
   "source": [
    "Experiment with the same manually created boards as above to check if the agent spots winning opportunities."
   ]
  },
  {
   "cell_type": "markdown",
   "metadata": {},
   "source": [
    "### A bad situation"
   ]
  },
  {
   "cell_type": "code",
   "execution_count": 38,
   "metadata": {},
   "outputs": [
    {
     "data": {
      "image/png": "[encoded data removed]",
      "text/plain": [
       "<Figure size 432x288 with 1 Axes>"
      ]
     },
     "metadata": {
      "needs_background": "light"
     },
     "output_type": "display_data"
    },
    {
     "name": "stdout",
     "output_type": "stream",
     "text": [
      "\n",
      "Number of nodes searched (cut off = 2): 65\n"
     ]
    },
    {
     "data": {
      "text/plain": [
       "{'move': ('h', 0, 2), 'value': 0.2222222222222222}"
      ]
     },
     "metadata": {},
     "output_type": "display_data"
    },
    {
     "name": "stdout",
     "output_type": "stream",
     "text": [
      "CPU times: user 7.04 ms, sys: 411 µs, total: 7.45 ms\n",
      "Wall time: 7.43 ms\n",
      "\n",
      "Number of nodes searched (cut off = 3): 416\n"
     ]
    },
    {
     "data": {
      "text/plain": [
       "{'move': ('h', 0, 2), 'value': 0.4444444444444444}"
      ]
     },
     "metadata": {},
     "output_type": "display_data"
    },
    {
     "name": "stdout",
     "output_type": "stream",
     "text": [
      "CPU times: user 43.1 ms, sys: 1.28 ms, total: 44.4 ms\n",
      "Wall time: 44.7 ms\n",
      "\n",
      "Number of nodes searched (cut off = 4): 1608\n"
     ]
    },
    {
     "data": {
      "text/plain": [
       "{'move': ('h', 0, 2), 'value': 0.4444444444444444}"
      ]
     },
     "metadata": {},
     "output_type": "display_data"
    },
    {
     "name": "stdout",
     "output_type": "stream",
     "text": [
      "CPU times: user 172 ms, sys: 4.53 ms, total: 176 ms\n",
      "Wall time: 180 ms\n",
      "\n",
      "Number of nodes searched (cut off = 8): 176050\n"
     ]
    },
    {
     "data": {
      "text/plain": [
       "{'move': ('h', 1, 2), 'value': 0.2222222222222222}"
      ]
     },
     "metadata": {},
     "output_type": "display_data"
    },
    {
     "name": "stdout",
     "output_type": "stream",
     "text": [
      "CPU times: user 18.5 s, sys: 80.9 ms, total: 18.6 s\n",
      "Wall time: 18.7 s\n",
      "\n",
      "Number of nodes searched (cut off = 9): 518747\n"
     ]
    },
    {
     "data": {
      "text/plain": [
       "{'move': ('h', 0, 3), 'value': 0.2222222222222222}"
      ]
     },
     "metadata": {},
     "output_type": "display_data"
    },
    {
     "name": "stdout",
     "output_type": "stream",
     "text": [
      "CPU times: user 57.8 s, sys: 373 ms, total: 58.1 s\n",
      "Wall time: 58.8 s\n"
     ]
    }
   ],
   "source": [
    "board = empty_board(4,4)\n",
    "\n",
    "draw_line(board, \"v\", 0, 0,'b')\n",
    "draw_line(board, \"v\", 1, 0,'b')\n",
    "draw_line(board, \"v\", 1, 1,'b')\n",
    "draw_line(board, \"v\", 1, 2,'b')\n",
    "draw_line(board, \"v\", 2, 2,'b')\n",
    "\n",
    "draw_line(board, \"h\", 2, 0,'b')\n",
    "draw_line(board, \"h\", 2, 1,'b')\n",
    "draw_line(board, \"h\", 2, 2,'b')\n",
    "draw_line(board, \"h\", 1, 1,'b')\n",
    "\n",
    "show_board(board)\n",
    "\n",
    "print()\n",
    "%time display(alpha_beta_search(board, 2))\n",
    "\n",
    "print()\n",
    "%time display(alpha_beta_search(board, 3))\n",
    "print()\n",
    "%time display(alpha_beta_search(board, 4))\n",
    "\n",
    "\n",
    "print()\n",
    "%time display(alpha_beta_search(board, 8))\n",
    "print()\n",
    "%time display(alpha_beta_search(board, 9))"
   ]
  },
  {
   "cell_type": "markdown",
   "metadata": {},
   "source": [
    "### Blue('b') will score a point"
   ]
  },
  {
   "cell_type": "code",
   "execution_count": 39,
   "metadata": {
    "id": "ilsrQmhEtiRA"
   },
   "outputs": [
    {
     "data": {
      "image/png": "[encoded data removed]",
      "text/plain": [
       "<Figure size 432x288 with 1 Axes>"
      ]
     },
     "metadata": {
      "needs_background": "light"
     },
     "output_type": "display_data"
    },
    {
     "name": "stdout",
     "output_type": "stream",
     "text": [
      "\n",
      "Number of nodes searched (cut off = 2): 33\n"
     ]
    },
    {
     "data": {
      "text/plain": [
       "{'move': ('v', 1, 1), 'value': 0}"
      ]
     },
     "metadata": {},
     "output_type": "display_data"
    },
    {
     "name": "stdout",
     "output_type": "stream",
     "text": [
      "CPU times: user 2.73 ms, sys: 370 µs, total: 3.1 ms\n",
      "Wall time: 2.98 ms\n",
      "\n",
      "Number of nodes searched (cut off = 8): 6947\n"
     ]
    },
    {
     "data": {
      "text/plain": [
       "{'move': ('v', 1, 1), 'value': 0}"
      ]
     },
     "metadata": {},
     "output_type": "display_data"
    },
    {
     "name": "stdout",
     "output_type": "stream",
     "text": [
      "CPU times: user 481 ms, sys: 3.49 ms, total: 484 ms\n",
      "Wall time: 486 ms\n",
      "\n",
      "Number of nodes searched (cut off = None): 16225\n"
     ]
    },
    {
     "data": {
      "text/plain": [
       "{'move': ('v', 1, 0), 'value': 0}"
      ]
     },
     "metadata": {},
     "output_type": "display_data"
    },
    {
     "name": "stdout",
     "output_type": "stream",
     "text": [
      "CPU times: user 1.04 s, sys: 4.61 ms, total: 1.04 s\n",
      "Wall time: 1.05 s\n"
     ]
    }
   ],
   "source": [
    "board = empty_board(3,3)\n",
    "\n",
    "draw_line(board, \"h\", 0, 0,'b')\n",
    "draw_line(board, \"v\", 0, 0,'b')\n",
    "draw_line(board, \"h\", 0, 1,'b')\n",
    "\n",
    "show_board(board)\n",
    "\n",
    "print()\n",
    "%time display(alpha_beta_search(board, 2))\n",
    "\n",
    "print()\n",
    "%time display(alpha_beta_search(board, 8))\n",
    "\n",
    "print()\n",
    "%time display(alpha_beta_search(board))"
   ]
  },
  {
   "cell_type": "markdown",
   "metadata": {},
   "source": [
    "### Blue can only score a maximum of one point"
   ]
  },
  {
   "cell_type": "code",
   "execution_count": 40,
   "metadata": {},
   "outputs": [
    {
     "data": {
      "image/png": "[encoded data removed]",
      "text/plain": [
       "<Figure size 432x288 with 1 Axes>"
      ]
     },
     "metadata": {
      "needs_background": "light"
     },
     "output_type": "display_data"
    },
    {
     "name": "stdout",
     "output_type": "stream",
     "text": [
      "\n",
      "Number of nodes searched (cut off = 2): 11\n"
     ]
    },
    {
     "data": {
      "text/plain": [
       "{'move': ('h', 1, 1), 'value': 0}"
      ]
     },
     "metadata": {},
     "output_type": "display_data"
    },
    {
     "name": "stdout",
     "output_type": "stream",
     "text": [
      "CPU times: user 1.93 ms, sys: 303 µs, total: 2.23 ms\n",
      "Wall time: 2.22 ms\n",
      "\n",
      "Number of nodes searched (cut off = 3): 21\n"
     ]
    },
    {
     "data": {
      "text/plain": [
       "{'move': ('h', 1, 1), 'value': 0}"
      ]
     },
     "metadata": {},
     "output_type": "display_data"
    },
    {
     "name": "stdout",
     "output_type": "stream",
     "text": [
      "CPU times: user 3.01 ms, sys: 343 µs, total: 3.35 ms\n",
      "Wall time: 3.3 ms\n",
      "\n",
      "Number of nodes searched (cut off = None): 42\n"
     ]
    },
    {
     "data": {
      "text/plain": [
       "{'move': ('h', 1, 1), 'value': -1}"
      ]
     },
     "metadata": {},
     "output_type": "display_data"
    },
    {
     "name": "stdout",
     "output_type": "stream",
     "text": [
      "CPU times: user 4.12 ms, sys: 302 µs, total: 4.42 ms\n",
      "Wall time: 4.35 ms\n"
     ]
    }
   ],
   "source": [
    "board = empty_board(3,3)\n",
    "\n",
    "draw_line(board, \"v\", 0, 0,'b')\n",
    "draw_line(board, \"v\", 2, 1,'b')\n",
    "\n",
    "draw_line(board, \"h\", 0, 0,'b')\n",
    "draw_line(board, \"h\", 1, 0,'b')\n",
    "draw_line(board, \"h\", 0, 1,'b')\n",
    "draw_line(board, \"h\", 0, 2,'b')\n",
    "draw_line(board, \"h\", 1, 2,'b')\n",
    "\n",
    "draw_line(board, \"v\", 1, 0,'b')\n",
    "\n",
    "show_board(board)\n",
    "\n",
    "print()\n",
    "%time display(alpha_beta_search(board, 2))\n",
    "\n",
    "print()\n",
    "%time display(alpha_beta_search(board, 3))\n",
    "\n",
    "print()\n",
    "%time display(alpha_beta_search(board))"
   ]
  },
  {
   "cell_type": "markdown",
   "metadata": {},
   "source": [
    "### Blue('b') is about to win\n",
    "(play ('v',0,1) or ('v',1,0) or ('h',1,1))"
   ]
  },
  {
   "cell_type": "code",
   "execution_count": 41,
   "metadata": {},
   "outputs": [
    {
     "data": {
      "image/png": "[encoded data removed]",
      "text/plain": [
       "<Figure size 432x288 with 1 Axes>"
      ]
     },
     "metadata": {
      "needs_background": "light"
     },
     "output_type": "display_data"
    },
    {
     "name": "stdout",
     "output_type": "stream",
     "text": [
      "\n",
      "Number of nodes searched (cut off = 2): 15\n"
     ]
    },
    {
     "data": {
      "text/plain": [
       "{'move': ('h', 1, 1), 'value': 0}"
      ]
     },
     "metadata": {},
     "output_type": "display_data"
    },
    {
     "name": "stdout",
     "output_type": "stream",
     "text": [
      "CPU times: user 3.18 ms, sys: 475 µs, total: 3.65 ms\n",
      "Wall time: 3.71 ms\n",
      "\n",
      "Number of nodes searched (cut off = 3): 31\n"
     ]
    },
    {
     "data": {
      "text/plain": [
       "{'move': ('h', 1, 1), 'value': 0}"
      ]
     },
     "metadata": {},
     "output_type": "display_data"
    },
    {
     "name": "stdout",
     "output_type": "stream",
     "text": [
      "CPU times: user 4.49 ms, sys: 637 µs, total: 5.13 ms\n",
      "Wall time: 5.36 ms\n",
      "\n",
      "Number of nodes searched (cut off = None): 47\n"
     ]
    },
    {
     "data": {
      "text/plain": [
       "{'move': ('h', 1, 1), 'value': 1}"
      ]
     },
     "metadata": {},
     "output_type": "display_data"
    },
    {
     "name": "stdout",
     "output_type": "stream",
     "text": [
      "CPU times: user 4.66 ms, sys: 401 µs, total: 5.07 ms\n",
      "Wall time: 4.99 ms\n"
     ]
    }
   ],
   "source": [
    "board = empty_board(3,3)\n",
    "\n",
    "draw_line(board, \"v\", 0, 0,'b')\n",
    "draw_line(board, \"v\", 1, 1,'b')\n",
    "draw_line(board, \"v\", 2, 1,'b')\n",
    "\n",
    "draw_line(board, \"h\", 0, 0,'b')\n",
    "draw_line(board, \"h\", 1, 0,'b')\n",
    "draw_line(board, \"h\", 0, 1,'b')\n",
    "draw_line(board, \"h\", 0, 2,'b')\n",
    "draw_line(board, \"h\", 1, 2,'b')\n",
    "\n",
    "show_board(board)\n",
    "\n",
    "print()\n",
    "%time display(alpha_beta_search(board, 2))\n",
    "\n",
    "print()\n",
    "%time display(alpha_beta_search(board, 3))\n",
    "\n",
    "print()\n",
    "%time display(alpha_beta_search(board))"
   ]
  },
  {
   "cell_type": "markdown",
   "metadata": {},
   "source": [
    "### Empty board: Only a draw can be guaranteed"
   ]
  },
  {
   "cell_type": "code",
   "execution_count": 42,
   "metadata": {},
   "outputs": [
    {
     "data": {
      "image/png": "[encoded data removed]",
      "text/plain": [
       "<Figure size 432x288 with 1 Axes>"
      ]
     },
     "metadata": {
      "needs_background": "light"
     },
     "output_type": "display_data"
    },
    {
     "name": "stdout",
     "output_type": "stream",
     "text": [
      "\n",
      "Number of nodes searched (cut off = 2): 20\n"
     ]
    },
    {
     "data": {
      "text/plain": [
       "{'move': ('v', 1, 0), 'value': 0}"
      ]
     },
     "metadata": {},
     "output_type": "display_data"
    },
    {
     "name": "stdout",
     "output_type": "stream",
     "text": [
      "CPU times: user 1.9 ms, sys: 365 µs, total: 2.27 ms\n",
      "Wall time: 2.21 ms\n",
      "Number of nodes searched (cut off = 4): 124\n"
     ]
    },
    {
     "data": {
      "text/plain": [
       "{'move': ('v', 1, 0), 'value': 0}"
      ]
     },
     "metadata": {},
     "output_type": "display_data"
    },
    {
     "name": "stdout",
     "output_type": "stream",
     "text": [
      "CPU times: user 6.02 ms, sys: 412 µs, total: 6.43 ms\n",
      "Wall time: 6.44 ms\n",
      "Number of nodes searched (cut off = None): 722\n"
     ]
    },
    {
     "data": {
      "text/plain": [
       "{'move': ('v', 1, 0), 'value': 0}"
      ]
     },
     "metadata": {},
     "output_type": "display_data"
    },
    {
     "name": "stdout",
     "output_type": "stream",
     "text": [
      "CPU times: user 33.4 ms, sys: 1.24 ms, total: 34.6 ms\n",
      "Wall time: 34.9 ms\n"
     ]
    }
   ],
   "source": [
    "board = empty_board(3,2)\n",
    "\n",
    "show_board(board)\n",
    "\n",
    "print()\n",
    "%time display(alpha_beta_search(board, 2))\n",
    "\n",
    "# print()\n",
    "%time display(alpha_beta_search(board, 4))\n",
    "\n",
    "# print()\n",
    "%time display(alpha_beta_search(board))"
   ]
  },
  {
   "cell_type": "markdown",
   "metadata": {},
   "source": [
    "### Blue is about to win no matter what Red does"
   ]
  },
  {
   "cell_type": "code",
   "execution_count": 43,
   "metadata": {},
   "outputs": [
    {
     "data": {
      "image/png": "[encoded data removed]",
      "text/plain": [
       "<Figure size 432x288 with 1 Axes>"
      ]
     },
     "metadata": {
      "needs_background": "light"
     },
     "output_type": "display_data"
    },
    {
     "name": "stdout",
     "output_type": "stream",
     "text": [
      "\n",
      "Number of nodes searched (cut off = 2): 5\n"
     ]
    },
    {
     "data": {
      "text/plain": [
       "{'move': ('v', 3, 2), 'value': 1}"
      ]
     },
     "metadata": {},
     "output_type": "display_data"
    },
    {
     "name": "stdout",
     "output_type": "stream",
     "text": [
      "CPU times: user 2.19 ms, sys: 413 µs, total: 2.6 ms\n",
      "Wall time: 2.57 ms\n",
      "Number of nodes searched (cut off = 4): 5\n"
     ]
    },
    {
     "data": {
      "text/plain": [
       "{'move': ('v', 3, 2), 'value': 1}"
      ]
     },
     "metadata": {},
     "output_type": "display_data"
    },
    {
     "name": "stdout",
     "output_type": "stream",
     "text": [
      "CPU times: user 2.14 ms, sys: 401 µs, total: 2.54 ms\n",
      "Wall time: 2.51 ms\n",
      "Number of nodes searched (cut off = None): 5\n"
     ]
    },
    {
     "data": {
      "text/plain": [
       "{'move': ('v', 3, 2), 'value': 1}"
      ]
     },
     "metadata": {},
     "output_type": "display_data"
    },
    {
     "name": "stdout",
     "output_type": "stream",
     "text": [
      "CPU times: user 1.69 ms, sys: 205 µs, total: 1.9 ms\n",
      "Wall time: 1.86 ms\n"
     ]
    }
   ],
   "source": [
    "board = empty_board(4,4)\n",
    "\n",
    "draw_line(board, \"v\", 0, 0,'b')\n",
    "draw_line(board, \"v\", 0, 1,'b')\n",
    "draw_line(board, \"v\", 0, 2,'b')\n",
    "\n",
    "draw_line(board, \"v\", 1, 0,'b')\n",
    "draw_line(board, \"v\", 1, 1,'b')\n",
    "draw_line(board, \"v\", 1, 2,'b')\n",
    "\n",
    "draw_line(board, \"v\", 2, 0,'b')\n",
    "draw_line(board, \"v\", 2, 1,'b')\n",
    "draw_line(board, \"v\", 2, 2,'b')\n",
    "\n",
    "draw_line(board, \"v\", 3, 0,'b')\n",
    "draw_line(board, \"v\", 3, 1,'b')\n",
    "\n",
    "\n",
    "draw_line(board, \"h\", 0, 0,'b')\n",
    "draw_line(board, \"h\", 0, 1,'b')\n",
    "draw_line(board, \"h\", 0, 2,'b')\n",
    "draw_line(board, \"h\", 0, 3,'b')\n",
    "\n",
    "draw_line(board, \"h\", 1, 0,'b')\n",
    "draw_line(board, \"h\", 1, 1,'b')\n",
    "draw_line(board, \"h\", 1, 2,'b')\n",
    "draw_line(board, \"h\", 1, 3,'b')\n",
    "\n",
    "draw_line(board, \"h\", 2, 0,'b')\n",
    "draw_line(board, \"h\", 2, 1,'b')\n",
    "draw_line(board, \"h\", 2, 2,'b')\n",
    "# draw_line(board, \"h\", 2, 3,'b')\n",
    "\n",
    "\n",
    "show_board(board)\n",
    "\n",
    "print()\n",
    "%time display(alpha_beta_search(board, 2))\n",
    "\n",
    "# print()\n",
    "%time display(alpha_beta_search(board, 4))\n",
    "\n",
    "# print()\n",
    "%time display(alpha_beta_search(board))"
   ]
  },
  {
   "cell_type": "markdown",
   "metadata": {
    "id": "-6xjJ7LltiRA"
   },
   "source": [
    "How long does it take to make a move? Start with a smaller board with 4 columns and make the board larger by adding columns."
   ]
  },
  {
   "cell_type": "code",
   "execution_count": 44,
   "metadata": {
    "id": "QBvolODVtiRA"
   },
   "outputs": [
    {
     "name": "stdout",
     "output_type": "stream",
     "text": [
      "Number of nodes searched (cut off = None): 722\n"
     ]
    },
    {
     "data": {
      "text/plain": [
       "{'move': ('v', 1, 0), 'value': 0}"
      ]
     },
     "metadata": {},
     "output_type": "display_data"
    },
    {
     "name": "stdout",
     "output_type": "stream",
     "text": [
      "CPU times: user 35.5 ms, sys: 2.04 ms, total: 37.5 ms\n",
      "Wall time: 44.9 ms\n"
     ]
    }
   ],
   "source": [
    "# Your code/ answer goes here.\n",
    "board = empty_board(3,2)\n",
    "%time display(alpha_beta_search(board))"
   ]
  },
  {
   "cell_type": "code",
   "execution_count": 45,
   "metadata": {},
   "outputs": [
    {
     "name": "stdout",
     "output_type": "stream",
     "text": [
      "Number of nodes searched (cut off = None): 584214\n"
     ]
    },
    {
     "data": {
      "text/plain": [
       "{'move': ('h', 1, 0), 'value': 1}"
      ]
     },
     "metadata": {},
     "output_type": "display_data"
    },
    {
     "name": "stdout",
     "output_type": "stream",
     "text": [
      "CPU times: user 37.3 s, sys: 212 ms, total: 37.5 s\n",
      "Wall time: 37.9 s\n"
     ]
    }
   ],
   "source": [
    "board = empty_board(3,3)\n",
    "%time display(alpha_beta_search(board))"
   ]
  },
  {
   "cell_type": "code",
   "execution_count": 46,
   "metadata": {},
   "outputs": [
    {
     "name": "stdout",
     "output_type": "stream",
     "text": [
      "Number of nodes searched (cut off = 4): 810\n"
     ]
    },
    {
     "data": {
      "text/plain": [
       "{'move': ('h', 1, 0), 'value': 0}"
      ]
     },
     "metadata": {},
     "output_type": "display_data"
    },
    {
     "name": "stdout",
     "output_type": "stream",
     "text": [
      "CPU times: user 49.6 ms, sys: 3.18 ms, total: 52.7 ms\n",
      "Wall time: 68.4 ms\n",
      "Number of nodes searched (cut off = 4): 1645\n"
     ]
    },
    {
     "data": {
      "text/plain": [
       "{'move': ('h', 1, 2), 'value': 0}"
      ]
     },
     "metadata": {},
     "output_type": "display_data"
    },
    {
     "name": "stdout",
     "output_type": "stream",
     "text": [
      "CPU times: user 105 ms, sys: 3.51 ms, total: 108 ms\n",
      "Wall time: 111 ms\n",
      "Number of nodes searched (cut off = 4): 2772\n"
     ]
    },
    {
     "data": {
      "text/plain": [
       "{'move': ('v', 1, 3), 'value': 0}"
      ]
     },
     "metadata": {},
     "output_type": "display_data"
    },
    {
     "name": "stdout",
     "output_type": "stream",
     "text": [
      "CPU times: user 200 ms, sys: 5.14 ms, total: 205 ms\n",
      "Wall time: 210 ms\n",
      "Number of nodes searched (cut off = 4): 4639\n"
     ]
    },
    {
     "data": {
      "text/plain": [
       "{'move': ('v', 2, 1), 'value': 0}"
      ]
     },
     "metadata": {},
     "output_type": "display_data"
    },
    {
     "name": "stdout",
     "output_type": "stream",
     "text": [
      "CPU times: user 363 ms, sys: 6.23 ms, total: 369 ms\n",
      "Wall time: 375 ms\n",
      "Number of nodes searched (cut off = 4): 7014\n"
     ]
    },
    {
     "data": {
      "text/plain": [
       "{'move': ('v', 2, 1), 'value': 0}"
      ]
     },
     "metadata": {},
     "output_type": "display_data"
    },
    {
     "name": "stdout",
     "output_type": "stream",
     "text": [
      "CPU times: user 601 ms, sys: 5.93 ms, total: 607 ms\n",
      "Wall time: 611 ms\n",
      "Number of nodes searched (cut off = 4): 10577\n"
     ]
    },
    {
     "data": {
      "text/plain": [
       "{'move': ('v', 2, 4), 'value': 0}"
      ]
     },
     "metadata": {},
     "output_type": "display_data"
    },
    {
     "name": "stdout",
     "output_type": "stream",
     "text": [
      "CPU times: user 1.1 s, sys: 16.2 ms, total: 1.12 s\n",
      "Wall time: 1.14 s\n"
     ]
    }
   ],
   "source": [
    "board = empty_board(3,4)\n",
    "%time display(alpha_beta_search(board,4))\n",
    "board = empty_board(4,4)\n",
    "%time display(alpha_beta_search(board,4))\n",
    "board = empty_board(4,5)\n",
    "%time display(alpha_beta_search(board,4))\n",
    "board = empty_board(5,5)\n",
    "%time display(alpha_beta_search(board,4))\n",
    "board = empty_board(5,6)\n",
    "%time display(alpha_beta_search(board,4))\n",
    "board = empty_board(6,6)\n",
    "%time display(alpha_beta_search(board,4))"
   ]
  },
  {
   "cell_type": "code",
   "execution_count": 47,
   "metadata": {},
   "outputs": [
    {
     "name": "stdout",
     "output_type": "stream",
     "text": [
      "Number of nodes searched (cut off = 4): 96497\n"
     ]
    },
    {
     "data": {
      "text/plain": [
       "{'move': ('v', 4, 7), 'value': 0}"
      ]
     },
     "metadata": {},
     "output_type": "display_data"
    },
    {
     "name": "stdout",
     "output_type": "stream",
     "text": [
      "CPU times: user 29.4 s, sys: 585 ms, total: 30 s\n",
      "Wall time: 29.6 s\n"
     ]
    }
   ],
   "source": [
    "board = empty_board(10,10)\n",
    "%time display(alpha_beta_search(board,4))"
   ]
  },
  {
   "cell_type": "code",
   "execution_count": 48,
   "metadata": {},
   "outputs": [
    {
     "name": "stdout",
     "output_type": "stream",
     "text": [
      "Number of nodes searched (cut off = 4): 290783\n"
     ]
    },
    {
     "data": {
      "text/plain": [
       "{'move': ('v', 6, 3), 'value': 0}"
      ]
     },
     "metadata": {},
     "output_type": "display_data"
    },
    {
     "name": "stdout",
     "output_type": "stream",
     "text": [
      "CPU times: user 3min 2s, sys: 2.22 s, total: 3min 4s\n",
      "Wall time: 3min 4s\n"
     ]
    }
   ],
   "source": [
    "board = empty_board(13,13)\n",
    "%time display(alpha_beta_search(board,4))"
   ]
  },
  {
   "cell_type": "code",
   "execution_count": 49,
   "metadata": {},
   "outputs": [
    {
     "name": "stdout",
     "output_type": "stream",
     "text": [
      "Number of nodes searched (cut off = 4): 396049\n"
     ]
    },
    {
     "data": {
      "text/plain": [
       "{'move': ('v', 6, 10), 'value': 0}"
      ]
     },
     "metadata": {},
     "output_type": "display_data"
    },
    {
     "name": "stdout",
     "output_type": "stream",
     "text": [
      "CPU times: user 5min 5s, sys: 3.38 s, total: 5min 9s\n",
      "Wall time: 5min 6s\n"
     ]
    }
   ],
   "source": [
    "board = empty_board(14,14)\n",
    "%time display(alpha_beta_search(board,4))"
   ]
  },
  {
   "cell_type": "markdown",
   "metadata": {
    "id": "YEfzhm6DtiRA"
   },
   "source": [
    "### Playtime\n",
    "\n",
    "Let two heuristic search agents (different cutoff depth, different heuristic evaluation function) compete against each other on a reasonably sized board. Since there is no randomness, you only need to let them play once."
   ]
  },
  {
   "cell_type": "code",
   "execution_count": 50,
   "metadata": {
    "id": "ZNuHatFZtiRA"
   },
   "outputs": [
    {
     "name": "stdout",
     "output_type": "stream",
     "text": [
      "heuristic2 vs. random:\n"
     ]
    },
    {
     "data": {
      "text/plain": [
       "{'b': 2, 'r': 1, 'd': 0}"
      ]
     },
     "metadata": {},
     "output_type": "display_data"
    }
   ],
   "source": [
    "DEBUG = 0\n",
    "def heuristic2_player(board, player = 'x'):\n",
    "    return alpha_beta_search(board, cutoff = 2, player = player)[\"move\"]\n",
    "\n",
    "def heuristic4_player(board, player = 'x'):\n",
    "    return alpha_beta_search(board, cutoff = 4, player = player)[\"move\"]\n",
    "\n",
    "def heuristic6_player(board, player = 'x'):\n",
    "    return alpha_beta_search(board, cutoff = 6, player = player)[\"move\"]\n",
    "\n",
    "def heuristic8_player(board, player = 'x'):\n",
    "    return alpha_beta_search(board, cutoff = 8, player = player)[\"move\"]\n",
    "\n",
    "def alpha_beta_player(board, player = 'x'):\n",
    "    return alpha_beta_search(board, player = player)[\"move\"]\n",
    "\n",
    "print(\"heuristic2 vs. random:\")\n",
    "display(play(heuristic2_player, random_player,n = 3,m = 3, N = 3))"
   ]
  },
  {
   "cell_type": "markdown",
   "metadata": {},
   "source": [
    "### Heuristic vs. Random"
   ]
  },
  {
   "cell_type": "code",
   "execution_count": 51,
   "metadata": {},
   "outputs": [
    {
     "name": "stdout",
     "output_type": "stream",
     "text": [
      "heuristic2 vs. random:\n"
     ]
    },
    {
     "data": {
      "text/plain": [
       "{'b': 46, 'r': 19, 'd': 35}"
      ]
     },
     "metadata": {},
     "output_type": "display_data"
    },
    {
     "name": "stdout",
     "output_type": "stream",
     "text": [
      "CPU times: user 1.82 s, sys: 7.38 ms, total: 1.82 s\n",
      "Wall time: 1.85 s\n",
      "\n",
      "heuristic4 vs. random:\n"
     ]
    },
    {
     "data": {
      "text/plain": [
       "{'b': 54, 'r': 39, 'd': 7}"
      ]
     },
     "metadata": {},
     "output_type": "display_data"
    },
    {
     "name": "stdout",
     "output_type": "stream",
     "text": [
      "CPU times: user 27 s, sys: 89.1 ms, total: 27.1 s\n",
      "Wall time: 27.3 s\n",
      "\n",
      "random vs. heuristic2\n"
     ]
    },
    {
     "data": {
      "text/plain": [
       "{'b': 17, 'r': 71, 'd': 12}"
      ]
     },
     "metadata": {},
     "output_type": "display_data"
    },
    {
     "name": "stdout",
     "output_type": "stream",
     "text": [
      "CPU times: user 1.68 s, sys: 21.3 ms, total: 1.7 s\n",
      "Wall time: 1.72 s\n",
      "\n",
      "random vs. heuristic4\n"
     ]
    },
    {
     "data": {
      "text/plain": [
       "{'b': 11, 'r': 76, 'd': 13}"
      ]
     },
     "metadata": {},
     "output_type": "display_data"
    },
    {
     "name": "stdout",
     "output_type": "stream",
     "text": [
      "CPU times: user 17.8 s, sys: 164 ms, total: 18 s\n",
      "Wall time: 18.3 s\n"
     ]
    }
   ],
   "source": [
    "print(\"heuristic2 vs. random:\")\n",
    "%time display(play(heuristic2_player, random_player,n = 4,m = 3, N = 100))\n",
    "\n",
    "print()\n",
    "print(\"heuristic4 vs. random:\")\n",
    "%time display(play(heuristic4_player, random_player,n = 4,m = 3, N = 100))\n",
    "\n",
    "print()\n",
    "print(\"random vs. heuristic2\")\n",
    "%time display(play(random_player, heuristic2_player,n = 4,m = 3, N = 100))\n",
    "\n",
    "print()\n",
    "print(\"random vs. heuristic4\")\n",
    "%time display(play(random_player, heuristic4_player,n = 4,m = 3, N = 100))"
   ]
  },
  {
   "cell_type": "markdown",
   "metadata": {},
   "source": [
    "### Heuristic vs. Heuristic"
   ]
  },
  {
   "cell_type": "code",
   "execution_count": 52,
   "metadata": {},
   "outputs": [
    {
     "name": "stdout",
     "output_type": "stream",
     "text": [
      "\n",
      "heuristic4 vs heuristic2\n"
     ]
    },
    {
     "data": {
      "text/plain": [
       "{'b': 1, 'r': 0, 'd': 0}"
      ]
     },
     "metadata": {},
     "output_type": "display_data"
    },
    {
     "name": "stdout",
     "output_type": "stream",
     "text": [
      "CPU times: user 500 ms, sys: 8.54 ms, total: 508 ms\n",
      "Wall time: 520 ms\n",
      "\n",
      "heuristic2 vs heuristic4\n"
     ]
    },
    {
     "data": {
      "text/plain": [
       "{'b': 0, 'r': 1, 'd': 0}"
      ]
     },
     "metadata": {},
     "output_type": "display_data"
    },
    {
     "name": "stdout",
     "output_type": "stream",
     "text": [
      "CPU times: user 228 ms, sys: 5.03 ms, total: 233 ms\n",
      "Wall time: 238 ms\n",
      "\n",
      "heuristic4 vs heuristic6\n"
     ]
    },
    {
     "data": {
      "text/plain": [
       "{'b': 1, 'r': 0, 'd': 0}"
      ]
     },
     "metadata": {},
     "output_type": "display_data"
    },
    {
     "name": "stdout",
     "output_type": "stream",
     "text": [
      "CPU times: user 3.13 s, sys: 36 ms, total: 3.17 s\n",
      "Wall time: 3.23 s\n",
      "\n",
      "heuristic6 vs heuristic4\n"
     ]
    },
    {
     "data": {
      "text/plain": [
       "{'b': 1, 'r': 0, 'd': 0}"
      ]
     },
     "metadata": {},
     "output_type": "display_data"
    },
    {
     "name": "stdout",
     "output_type": "stream",
     "text": [
      "CPU times: user 7.7 s, sys: 86.8 ms, total: 7.78 s\n",
      "Wall time: 7.94 s\n",
      "\n",
      "heuristic8 vs heuristic6\n"
     ]
    },
    {
     "data": {
      "text/plain": [
       "{'b': 1, 'r': 0, 'd': 0}"
      ]
     },
     "metadata": {},
     "output_type": "display_data"
    },
    {
     "name": "stdout",
     "output_type": "stream",
     "text": [
      "CPU times: user 1min 5s, sys: 393 ms, total: 1min 5s\n",
      "Wall time: 1min 6s\n",
      "\n",
      "heuristic6 vs heuristic8\n"
     ]
    },
    {
     "data": {
      "text/plain": [
       "{'b': 0, 'r': 1, 'd': 0}"
      ]
     },
     "metadata": {},
     "output_type": "display_data"
    },
    {
     "name": "stdout",
     "output_type": "stream",
     "text": [
      "CPU times: user 31.7 s, sys: 336 ms, total: 32.1 s\n",
      "Wall time: 32.7 s\n"
     ]
    }
   ],
   "source": [
    "print()\n",
    "print(\"heuristic4 vs heuristic2\")\n",
    "%time display(play(heuristic4_player, heuristic2_player,n = 3,m = 4, N = 1))\n",
    "\n",
    "print()\n",
    "print(\"heuristic2 vs heuristic4\")\n",
    "%time display(play(heuristic2_player, heuristic4_player,n = 3,m = 4, N = 1))\n",
    "\n",
    "print()\n",
    "print(\"heuristic4 vs heuristic6\")\n",
    "%time display(play(heuristic4_player, heuristic6_player,n = 3,m = 4, N = 1))\n",
    "\n",
    "print()\n",
    "print(\"heuristic6 vs heuristic4\")\n",
    "%time display(play(heuristic6_player, heuristic4_player,n = 3,m = 4, N = 1))\n",
    "\n",
    "print()\n",
    "print(\"heuristic8 vs heuristic6\")\n",
    "%time display(play(heuristic8_player, heuristic6_player,n = 3,m = 4, N = 1))\n",
    "\n",
    "print()\n",
    "print(\"heuristic6 vs heuristic8\")\n",
    "%time display(play(heuristic6_player, heuristic8_player,n = 3,m = 4, N = 1))"
   ]
  },
  {
   "cell_type": "markdown",
   "metadata": {},
   "source": [
    "### Heuristic vs. Minimax with Alpha-Beta Pruning"
   ]
  },
  {
   "cell_type": "code",
   "execution_count": 53,
   "metadata": {},
   "outputs": [
    {
     "name": "stdout",
     "output_type": "stream",
     "text": [
      "heuristic2 vs. alpha_beta\n"
     ]
    },
    {
     "data": {
      "text/plain": [
       "{'b': 0, 'r': 0, 'd': 1}"
      ]
     },
     "metadata": {},
     "output_type": "display_data"
    },
    {
     "name": "stdout",
     "output_type": "stream",
     "text": [
      "CPU times: user 23.4 s, sys: 158 ms, total: 23.6 s\n",
      "Wall time: 23.9 s\n",
      "\n",
      "alpha_beta vs. heuristic2\n"
     ]
    },
    {
     "data": {
      "text/plain": [
       "{'b': 1, 'r': 0, 'd': 0}"
      ]
     },
     "metadata": {},
     "output_type": "display_data"
    },
    {
     "name": "stdout",
     "output_type": "stream",
     "text": [
      "CPU times: user 40.8 s, sys: 194 ms, total: 41 s\n",
      "Wall time: 41.4 s\n",
      "\n",
      "heuristic4 vs alpha_beta\n"
     ]
    },
    {
     "data": {
      "text/plain": [
       "{'b': 0, 'r': 0, 'd': 1}"
      ]
     },
     "metadata": {},
     "output_type": "display_data"
    },
    {
     "name": "stdout",
     "output_type": "stream",
     "text": [
      "CPU times: user 22.2 s, sys: 55.2 ms, total: 22.3 s\n",
      "Wall time: 22.4 s\n",
      "\n",
      "alpha_beta vs. heuristic4\n"
     ]
    },
    {
     "data": {
      "text/plain": [
       "{'b': 1, 'r': 0, 'd': 0}"
      ]
     },
     "metadata": {},
     "output_type": "display_data"
    },
    {
     "name": "stdout",
     "output_type": "stream",
     "text": [
      "CPU times: user 40.2 s, sys: 143 ms, total: 40.4 s\n",
      "Wall time: 40.6 s\n"
     ]
    }
   ],
   "source": [
    "print(\"heuristic2 vs. alpha_beta\")\n",
    "%time display(play(heuristic2_player, alpha_beta_player,n = 3,m = 3, N = 1))\n",
    "\n",
    "print()\n",
    "print(\"alpha_beta vs. heuristic2\")\n",
    "%time display(play(alpha_beta_player, heuristic2_player,n = 3,m = 3, N = 1))\n",
    "\n",
    "print()\n",
    "print(\"heuristic4 vs alpha_beta\")\n",
    "%time display(play(heuristic4_player, alpha_beta_player,n = 3,m = 3, N = 1))\n",
    "\n",
    "print()\n",
    "print(\"alpha_beta vs. heuristic4\")\n",
    "%time display(play(alpha_beta_player, heuristic4_player,n = 3,m = 3, N = 1))"
   ]
  },
  {
   "cell_type": "markdown",
   "metadata": {
    "id": "ohNsrhIStiRA"
   },
   "source": [
    "## Tournament task [+1 to 5% bonus on your course grade; will be assigned separately]\n",
    "\n",
    "Find another student and let your best agent play against the other student's best player. You are allowed to use any improvements you like as long as you code it yourself. We will set up a class tournament on Canvas. This tournament will continue after the submission deadline."
   ]
  },
  {
   "cell_type": "markdown",
   "metadata": {
    "id": "2Oh2I80DtiRB"
   },
   "source": [
    "## Graduate student advanced task: Pure Monte Carlo Search and Best First Move [10 point]\n",
    "\n",
    "__Undergraduate students:__ This is a bonus task you can attempt if you like [+5 Bonus point].\n",
    "\n",
    "### Pure Monte Carlo Search\n",
    "\n",
    "Implement Pure Monte Carlo Search (see [tic-tac-toe-example](https://nbviewer.org/github/mhahsler/CS7320-AI/blob/master/Games/tictactoe_pure_monte_carlo_search.ipynb)) and investigate how this search performs on the test boards that you have used above. "
   ]
  },
  {
   "cell_type": "code",
   "execution_count": 22,
   "metadata": {
    "id": "UwluqZtUtiRB"
   },
   "outputs": [
    {
     "name": "stdout",
     "output_type": "stream",
     "text": [
      "1\n"
     ]
    }
   ],
   "source": [
    "def playout(state, action, player = 'b'):\n",
    "    \"\"\"Perfrom a random playout starting with the given action on the fiven board \n",
    "    and return the utility of the finished game.\"\"\"\n",
    "\n",
    "    state,flag = result(state, player, action)\n",
    "    current_player = other(player)\n",
    "    # last_score, last_player = None, None\n",
    "    \n",
    "    while True:\n",
    "        # reached terminal state?\n",
    "        u = utility(state, player)\n",
    "        if u is not None: \n",
    "            return u\n",
    "        \n",
    "        # random playout policy\n",
    "        a = random.choice(get_actions(state))\n",
    "\n",
    "        state,flag = result(state, current_player, a)\n",
    "        \n",
    "        # if drawed a box => do not change player\n",
    "        if flag == 2:\n",
    "            continue\n",
    "        # switch between players\n",
    "        current_player = other(current_player)\n",
    "        \n",
    "board = empty_board(3,3)\n",
    "print(playout(board,('v',0,0)))\n"
   ]
  },
  {
   "cell_type": "code",
   "execution_count": 23,
   "metadata": {},
   "outputs": [
    {
     "data": {
      "image/png": "[encoded data removed]",
      "text/plain": [
       "<Figure size 432x288 with 1 Axes>"
      ]
     },
     "metadata": {
      "needs_background": "light"
     },
     "output_type": "display_data"
    },
    {
     "name": "stdout",
     "output_type": "stream",
     "text": [
      "Playout results: [1, 1, 1, 1, 1, 1, 1, 1, -1, -1, -1, 1, -1, 1, 1, -1, 1, -1, 1, -1, -1, -1, 1, -1, -1, -1, 1, 1, -1, 1, -1, 1, 1, 1, 1, -1, 1, -1, 1, -1, 1, 1, 1, 1, 1, 1, -1, -1, 1, -1, 1, 1, -1, -1, 1, 1, -1, 1, -1, 1, 1, -1, 1, -1, -1, 1, 1, 1, 1, 1, -1, -1, -1, -1, -1, 1, -1, 1, -1, 1, -1, 1, -1, 1, -1, 1, 1, 1, 1, 1, 1, -1, -1, 1, -1, -1, -1, -1, -1, -1]\n",
      "mean utility: 0.1\n",
      "win probability: 0.55\n",
      "loss probability: 0.45\n",
      "draw probability: 0.0\n"
     ]
    }
   ],
   "source": [
    "def playouts(board, action, player = 'b', N = 100):\n",
    "    \"\"\"Perform N playouts following the given action for the given board.\"\"\"\n",
    "    return [playout(board, action, player) for i in range(N)]\n",
    "\n",
    "DEBUG = 0\n",
    "\n",
    "board = empty_board(4,4)\n",
    "\n",
    "draw_line(board, \"v\", 0, 0,'b')\n",
    "draw_line(board, \"v\", 1, 0,'b')\n",
    "draw_line(board, \"v\", 1, 1,'b')\n",
    "draw_line(board, \"v\", 1, 2,'b')\n",
    "draw_line(board, \"v\", 2, 2,'b')\n",
    "\n",
    "draw_line(board, \"h\", 2, 0,'b')\n",
    "draw_line(board, \"h\", 2, 1,'b')\n",
    "draw_line(board, \"h\", 2, 2,'b')\n",
    "draw_line(board, \"h\", 1, 1,'b')\n",
    "\n",
    "show_board(board)\n",
    "\n",
    "u = playouts(board,('h',0,2))\n",
    "print(\"Playout results:\", u)\n",
    "\n",
    "print(f\"mean utility: {np.mean(u)}\")\n",
    "\n",
    "p_win = sum(np.array(u) == +1)/len(u)\n",
    "p_loss = sum(np.array(u) == -1)/len(u)\n",
    "p_draw = sum(np.array(u) == 0)/len(u)\n",
    "print(f\"win probability: {p_win}\")\n",
    "print(f\"loss probability: {p_loss}\")\n",
    "print(f\"draw probability: {p_draw}\")"
   ]
  },
  {
   "cell_type": "code",
   "execution_count": 62,
   "metadata": {},
   "outputs": [],
   "source": [
    "def pmcs(board, N = 10000, player = 'b'):\n",
    "    \"\"\"Pure Monte Carlo Search. Returns the action that has the largest average utility.\n",
    "    The N playouts are evenly divided between the possible actions.\"\"\"\n",
    "    global DEBUG\n",
    "    \n",
    "    actions = get_actions(board)\n",
    "    n = math.floor(N/len(actions))\n",
    "    if DEBUG >= 1:\n",
    "        print(f\"Actions: {actions} ({n} playouts per actions)\")\n",
    "    \n",
    "    ps = { i:np.mean(playouts(board, i, player, N = n)) for i in actions }\n",
    "    if DEBUG >= 1:\n",
    "        display(ps)\n",
    "    \n",
    "    action = max(ps, key = ps.get)\n",
    "    return action"
   ]
  },
  {
   "cell_type": "code",
   "execution_count": 63,
   "metadata": {},
   "outputs": [
    {
     "data": {
      "image/png": "[encoded data removed]",
      "text/plain": [
       "<Figure size 432x288 with 1 Axes>"
      ]
     },
     "metadata": {
      "needs_background": "light"
     },
     "output_type": "display_data"
    },
    {
     "data": {
      "text/plain": [
       "('v', 1, 1)"
      ]
     },
     "metadata": {},
     "output_type": "display_data"
    },
    {
     "name": "stdout",
     "output_type": "stream",
     "text": [
      "CPU times: user 3.82 s, sys: 15.2 ms, total: 3.84 s\n",
      "Wall time: 3.86 s\n",
      "\n"
     ]
    },
    {
     "data": {
      "text/plain": [
       "('h', 0, 1)"
      ]
     },
     "metadata": {},
     "output_type": "display_data"
    },
    {
     "name": "stdout",
     "output_type": "stream",
     "text": [
      "CPU times: user 3.75 s, sys: 9 ms, total: 3.76 s\n",
      "Wall time: 3.77 s\n"
     ]
    }
   ],
   "source": [
    "board = empty_board(3,3)\n",
    "show_board(board)\n",
    "%time display(pmcs(board))\n",
    "\n",
    "print()\n",
    "%time display(pmcs(board, N = 10000))"
   ]
  },
  {
   "cell_type": "markdown",
   "metadata": {},
   "source": [
    "### Playtime"
   ]
  },
  {
   "cell_type": "code",
   "execution_count": 64,
   "metadata": {},
   "outputs": [],
   "source": [
    "def pmcs10_player(board, player = 'b'):\n",
    "    action = pmcs(board, N = 10, player = player)\n",
    "    return action\n",
    "\n",
    "def pmcs100_player(board, player = 'b'):\n",
    "    action = pmcs(board, N = 100, player = player)\n",
    "    return action\n",
    "\n",
    "def pmcs1000_player(board, player = 'b'):\n",
    "    action = pmcs(board, N = 1000, player = player)\n",
    "    return action\n"
   ]
  },
  {
   "cell_type": "markdown",
   "metadata": {},
   "source": [
    "### Pure Monte Carlo Search vs. Random"
   ]
  },
  {
   "cell_type": "code",
   "execution_count": 66,
   "metadata": {},
   "outputs": [
    {
     "name": "stdout",
     "output_type": "stream",
     "text": [
      "PMCS vs. random:\n"
     ]
    },
    {
     "data": {
      "text/plain": [
       "{'b': 74, 'r': 11, 'd': 15}"
      ]
     },
     "metadata": {},
     "output_type": "display_data"
    },
    {
     "name": "stdout",
     "output_type": "stream",
     "text": [
      "CPU times: user 1.25 s, sys: 10.9 ms, total: 1.26 s\n",
      "Wall time: 1.27 s\n"
     ]
    },
    {
     "data": {
      "text/plain": [
       "{'b': 81, 'r': 19, 'd': 0}"
      ]
     },
     "metadata": {},
     "output_type": "display_data"
    },
    {
     "name": "stdout",
     "output_type": "stream",
     "text": [
      "CPU times: user 2.81 s, sys: 17.8 ms, total: 2.83 s\n",
      "Wall time: 2.87 s\n",
      "\n",
      "random vs. PMCS\n"
     ]
    },
    {
     "data": {
      "text/plain": [
       "{'b': 21, 'r': 62, 'd': 17}"
      ]
     },
     "metadata": {},
     "output_type": "display_data"
    },
    {
     "name": "stdout",
     "output_type": "stream",
     "text": [
      "CPU times: user 1.1 s, sys: 12.2 ms, total: 1.11 s\n",
      "Wall time: 1.13 s\n"
     ]
    },
    {
     "data": {
      "text/plain": [
       "{'b': 21, 'r': 79, 'd': 0}"
      ]
     },
     "metadata": {},
     "output_type": "display_data"
    },
    {
     "name": "stdout",
     "output_type": "stream",
     "text": [
      "CPU times: user 2.93 s, sys: 30.1 ms, total: 2.96 s\n",
      "Wall time: 3.01 s\n"
     ]
    }
   ],
   "source": [
    "DEBUG = 0\n",
    "\n",
    "print(\"PMCS vs. random:\")\n",
    "%time display(play(pmcs10_player, random_player, 3, 3, N = 100))\n",
    "%time display(play(pmcs10_player, random_player, 4, 4, N = 100))\n",
    "\n",
    "print()\n",
    "print(\"random vs. PMCS\")\n",
    "%time display(play(random_player, pmcs10_player, 3, 3, N = 100))\n",
    "%time display(play(random_player, pmcs10_player, 4, 4, N = 100))"
   ]
  },
  {
   "cell_type": "code",
   "execution_count": 67,
   "metadata": {},
   "outputs": [
    {
     "name": "stdout",
     "output_type": "stream",
     "text": [
      "PMCS vs. random:\n"
     ]
    },
    {
     "data": {
      "text/plain": [
       "{'b': 80, 'r': 5, 'd': 15}"
      ]
     },
     "metadata": {},
     "output_type": "display_data"
    },
    {
     "name": "stdout",
     "output_type": "stream",
     "text": [
      "CPU times: user 16.5 s, sys: 83 ms, total: 16.6 s\n",
      "Wall time: 16.8 s\n"
     ]
    },
    {
     "data": {
      "text/plain": [
       "{'b': 88, 'r': 12, 'd': 0}"
      ]
     },
     "metadata": {},
     "output_type": "display_data"
    },
    {
     "name": "stdout",
     "output_type": "stream",
     "text": [
      "CPU times: user 1min 45s, sys: 216 ms, total: 1min 46s\n",
      "Wall time: 1min 46s\n",
      "\n",
      "random vs. PMCS\n"
     ]
    },
    {
     "data": {
      "text/plain": [
       "{'b': 4, 'r': 70, 'd': 26}"
      ]
     },
     "metadata": {},
     "output_type": "display_data"
    },
    {
     "name": "stdout",
     "output_type": "stream",
     "text": [
      "CPU times: user 14.5 s, sys: 30.3 ms, total: 14.5 s\n",
      "Wall time: 14.6 s\n"
     ]
    },
    {
     "data": {
      "text/plain": [
       "{'b': 14, 'r': 86, 'd': 0}"
      ]
     },
     "metadata": {},
     "output_type": "display_data"
    },
    {
     "name": "stdout",
     "output_type": "stream",
     "text": [
      "CPU times: user 1min 48s, sys: 972 ms, total: 1min 49s\n",
      "Wall time: 1min 51s\n"
     ]
    }
   ],
   "source": [
    "print(\"PMCS vs. random:\")\n",
    "%time display(play(pmcs100_player, random_player, 3, 3, N = 100))\n",
    "%time display(play(pmcs100_player, random_player, 4, 4, N = 100))\n",
    "\n",
    "print()\n",
    "print(\"random vs. PMCS\")\n",
    "%time display(play(random_player, pmcs100_player, 3, 3, N = 100))\n",
    "%time display(play(random_player, pmcs100_player, 4, 4, N = 100))"
   ]
  },
  {
   "cell_type": "markdown",
   "metadata": {},
   "source": [
    "### Pure Monte Carlo Search vs. Pure Monte Carlo Search"
   ]
  },
  {
   "cell_type": "code",
   "execution_count": 68,
   "metadata": {},
   "outputs": [
    {
     "name": "stdout",
     "output_type": "stream",
     "text": [
      "PMCS (100) vs. PMCS (10):\n"
     ]
    },
    {
     "data": {
      "text/plain": [
       "{'b': 23, 'r': 67, 'd': 10}"
      ]
     },
     "metadata": {},
     "output_type": "display_data"
    },
    {
     "name": "stdout",
     "output_type": "stream",
     "text": [
      "CPU times: user 16.5 s, sys: 131 ms, total: 16.6 s\n",
      "Wall time: 16.9 s\n"
     ]
    },
    {
     "data": {
      "text/plain": [
       "{'b': 48, 'r': 37, 'd': 15}"
      ]
     },
     "metadata": {},
     "output_type": "display_data"
    },
    {
     "name": "stdout",
     "output_type": "stream",
     "text": [
      "CPU times: user 42.5 s, sys: 176 ms, total: 42.7 s\n",
      "Wall time: 43 s\n",
      "\n",
      "PMCS (10) vs. PMCS (100)\n"
     ]
    },
    {
     "data": {
      "text/plain": [
       "{'b': 36, 'r': 46, 'd': 18}"
      ]
     },
     "metadata": {},
     "output_type": "display_data"
    },
    {
     "name": "stdout",
     "output_type": "stream",
     "text": [
      "CPU times: user 16 s, sys: 35.4 ms, total: 16 s\n",
      "Wall time: 16.1 s\n"
     ]
    },
    {
     "data": {
      "text/plain": [
       "{'b': 56, 'r': 36, 'd': 8}"
      ]
     },
     "metadata": {},
     "output_type": "display_data"
    },
    {
     "name": "stdout",
     "output_type": "stream",
     "text": [
      "CPU times: user 38.1 s, sys: 85.5 ms, total: 38.2 s\n",
      "Wall time: 38.3 s\n"
     ]
    }
   ],
   "source": [
    "print(\"PMCS (100) vs. PMCS (10):\")\n",
    "%time display(play(pmcs100_player, pmcs10_player, 3, 3, N = 100))\n",
    "%time display(play(pmcs100_player, pmcs10_player, 4, 3, N = 100))\n",
    "\n",
    "print()\n",
    "print(\"PMCS (10) vs. PMCS (100)\")\n",
    "%time display(play(pmcs10_player, pmcs100_player, 3, 3, N = 100))\n",
    "%time display(play(pmcs10_player, pmcs100_player, 4, 3, N = 100))"
   ]
  },
  {
   "cell_type": "markdown",
   "metadata": {},
   "source": [
    "#### Pure Monte Carlo Search vs. Heuristic"
   ]
  },
  {
   "cell_type": "code",
   "execution_count": 73,
   "metadata": {},
   "outputs": [
    {
     "name": "stdout",
     "output_type": "stream",
     "text": [
      "PMCS (100) vs. heuristic4:\n"
     ]
    },
    {
     "data": {
      "text/plain": [
       "{'b': 62, 'r': 33, 'd': 5}"
      ]
     },
     "metadata": {},
     "output_type": "display_data"
    },
    {
     "name": "stdout",
     "output_type": "stream",
     "text": [
      "CPU times: user 23.5 s, sys: 252 ms, total: 23.8 s\n",
      "Wall time: 24.3 s\n"
     ]
    },
    {
     "data": {
      "text/plain": [
       "{'b': 68, 'r': 32, 'd': 0}"
      ]
     },
     "metadata": {},
     "output_type": "display_data"
    },
    {
     "name": "stdout",
     "output_type": "stream",
     "text": [
      "CPU times: user 2min 59s, sys: 592 ms, total: 3min\n",
      "Wall time: 3min 1s\n",
      "\n",
      "heuristic4 vs. PMCS (100)\n"
     ]
    },
    {
     "data": {
      "text/plain": [
       "{'b': 14, 'r': 44, 'd': 42}"
      ]
     },
     "metadata": {},
     "output_type": "display_data"
    },
    {
     "name": "stdout",
     "output_type": "stream",
     "text": [
      "CPU times: user 19.6 s, sys: 45.9 ms, total: 19.7 s\n",
      "Wall time: 19.7 s\n"
     ]
    },
    {
     "data": {
      "text/plain": [
       "{'b': 47, 'r': 53, 'd': 0}"
      ]
     },
     "metadata": {},
     "output_type": "display_data"
    },
    {
     "name": "stdout",
     "output_type": "stream",
     "text": [
      "CPU times: user 3min 29s, sys: 765 ms, total: 3min 30s\n",
      "Wall time: 3min 32s\n"
     ]
    }
   ],
   "source": [
    "print(\"PMCS (100) vs. heuristic4:\")\n",
    "%time display(play(pmcs100_player, heuristic4_player, 3, 3, N = 100))\n",
    "%time display(play(pmcs100_player, heuristic4_player, 4, 4, N = 100))\n",
    "\n",
    "print()\n",
    "print(\"heuristic4 vs. PMCS (100)\")\n",
    "%time display(play(heuristic4_player, pmcs100_player, 3, 3, N = 100))\n",
    "%time display(play(heuristic4_player, pmcs100_player, 4, 4, N = 100))"
   ]
  },
  {
   "cell_type": "code",
   "execution_count": 74,
   "metadata": {},
   "outputs": [
    {
     "name": "stdout",
     "output_type": "stream",
     "text": [
      "PMCS (100) vs. heuristic8:\n"
     ]
    },
    {
     "data": {
      "text/plain": [
       "{'b': 4, 'r': 4, 'd': 2}"
      ]
     },
     "metadata": {},
     "output_type": "display_data"
    },
    {
     "name": "stdout",
     "output_type": "stream",
     "text": [
      "CPU times: user 2.29 s, sys: 30.2 ms, total: 2.32 s\n",
      "Wall time: 2.38 s\n"
     ]
    },
    {
     "data": {
      "text/plain": [
       "{'b': 9, 'r': 1, 'd': 0}"
      ]
     },
     "metadata": {},
     "output_type": "display_data"
    },
    {
     "name": "stdout",
     "output_type": "stream",
     "text": [
      "CPU times: user 18.6 s, sys: 155 ms, total: 18.7 s\n",
      "Wall time: 19 s\n",
      "\n",
      "heuristic8 vs. PMCS (100)\n"
     ]
    },
    {
     "data": {
      "text/plain": [
       "{'b': 2, 'r': 4, 'd': 4}"
      ]
     },
     "metadata": {},
     "output_type": "display_data"
    },
    {
     "name": "stdout",
     "output_type": "stream",
     "text": [
      "CPU times: user 2.09 s, sys: 18.1 ms, total: 2.11 s\n",
      "Wall time: 2.14 s\n"
     ]
    },
    {
     "data": {
      "text/plain": [
       "{'b': 4, 'r': 6, 'd': 0}"
      ]
     },
     "metadata": {},
     "output_type": "display_data"
    },
    {
     "name": "stdout",
     "output_type": "stream",
     "text": [
      "CPU times: user 21.6 s, sys: 112 ms, total: 21.7 s\n",
      "Wall time: 22 s\n"
     ]
    }
   ],
   "source": [
    "print(\"PMCS (100) vs. heuristic8:\")\n",
    "%time display(play(pmcs100_player, heuristic4_player, 3, 3, N = 10))\n",
    "%time display(play(pmcs100_player, heuristic4_player, 4, 4, N = 10))\n",
    "\n",
    "print()\n",
    "print(\"heuristic8 vs. PMCS (100)\")\n",
    "%time display(play(heuristic4_player, pmcs100_player, 3, 3, N = 10))\n",
    "%time display(play(heuristic4_player, pmcs100_player, 4, 4, N = 10))"
   ]
  },
  {
   "cell_type": "markdown",
   "metadata": {
    "id": "vQNbKFUztiRB"
   },
   "source": [
    "### Best First Move\n",
    "\n",
    "How would you determine what the best first move for a standard board ($5 \\times 5$) is? You can use Pure Monte Carlo Search or any algorithms that you have implemented above."
   ]
  },
  {
   "cell_type": "code",
   "execution_count": 78,
   "metadata": {
    "id": "hLFdKE1btiRB"
   },
   "outputs": [
    {
     "data": {
      "image/png": "[encoded data removed]",
      "text/plain": [
       "<Figure size 432x288 with 1 Axes>"
      ]
     },
     "metadata": {
      "needs_background": "light"
     },
     "output_type": "display_data"
    },
    {
     "name": "stdout",
     "output_type": "stream",
     "text": [
      "Actions: [('v', 2, 1), ('h', 2, 0), ('v', 2, 0), ('h', 1, 4), ('h', 1, 3), ('v', 1, 3), ('h', 1, 2), ('v', 1, 2), ('h', 1, 1), ('v', 1, 1), ('h', 1, 0), ('v', 1, 0), ('h', 0, 4), ('h', 0, 3), ('v', 0, 3), ('h', 0, 2), ('v', 0, 2), ('h', 0, 1), ('v', 0, 1), ('h', 0, 0), ('v', 0, 0), ('h', 2, 1), ('v', 2, 2), ('h', 2, 2), ('v', 2, 3), ('h', 2, 3), ('h', 2, 4), ('v', 3, 0), ('h', 3, 0), ('v', 3, 1), ('h', 3, 1), ('v', 3, 2), ('h', 3, 2), ('v', 3, 3), ('h', 3, 3), ('h', 3, 4), ('v', 4, 0), ('v', 4, 1), ('v', 4, 2), ('v', 4, 3)] (250 playouts per actions)\n"
     ]
    },
    {
     "data": {
      "text/plain": [
       "{('v', 2, 1): -0.048,\n",
       " ('h', 2, 0): 0.052,\n",
       " ('v', 2, 0): -0.028,\n",
       " ('h', 1, 4): 0.1,\n",
       " ('h', 1, 3): -0.028,\n",
       " ('v', 1, 3): -0.024,\n",
       " ('h', 1, 2): 0.02,\n",
       " ('v', 1, 2): -0.036,\n",
       " ('h', 1, 1): -0.016,\n",
       " ('v', 1, 1): 0.052,\n",
       " ('h', 1, 0): 0.132,\n",
       " ('v', 1, 0): 0.0,\n",
       " ('h', 0, 4): -0.164,\n",
       " ('h', 0, 3): 0.068,\n",
       " ('v', 0, 3): -0.036,\n",
       " ('h', 0, 2): 0.076,\n",
       " ('v', 0, 2): -0.012,\n",
       " ('h', 0, 1): -0.028,\n",
       " ('v', 0, 1): -0.188,\n",
       " ('h', 0, 0): 0.064,\n",
       " ('v', 0, 0): -0.052,\n",
       " ('h', 2, 1): 0.008,\n",
       " ('v', 2, 2): 0.044,\n",
       " ('h', 2, 2): -0.072,\n",
       " ('v', 2, 3): -0.004,\n",
       " ('h', 2, 3): -0.064,\n",
       " ('h', 2, 4): -0.04,\n",
       " ('v', 3, 0): 0.08,\n",
       " ('h', 3, 0): -0.112,\n",
       " ('v', 3, 1): -0.048,\n",
       " ('h', 3, 1): -0.076,\n",
       " ('v', 3, 2): 0.096,\n",
       " ('h', 3, 2): -0.016,\n",
       " ('v', 3, 3): 0.052,\n",
       " ('h', 3, 3): 0.044,\n",
       " ('h', 3, 4): 0.008,\n",
       " ('v', 4, 0): 0.112,\n",
       " ('v', 4, 1): -0.032,\n",
       " ('v', 4, 2): 0.004,\n",
       " ('v', 4, 3): -0.036}"
      ]
     },
     "metadata": {},
     "output_type": "display_data"
    },
    {
     "data": {
      "text/plain": [
       "('h', 1, 0)"
      ]
     },
     "metadata": {},
     "output_type": "display_data"
    },
    {
     "name": "stdout",
     "output_type": "stream",
     "text": [
      "CPU times: user 36.3 s, sys: 240 ms, total: 36.5 s\n",
      "Wall time: 37.1 s\n"
     ]
    }
   ],
   "source": [
    "# Your code/ answer goes here.\n",
    "DEBUG = 1\n",
    "board = empty_board(5,5)\n",
    "show_board(board)\n",
    "%time display(pmcs(board, N = 10000))"
   ]
  },
  {
   "cell_type": "markdown",
   "metadata": {},
   "source": [
    "From the output of Pure Monte Carlo Search Algorithm, the best move for an empty 5\\*5 board is choose the horizontal line at (1,0)."
   ]
  }
 ],
 "metadata": {
  "colab": {
   "name": "assignment_dots_and_boxes.ipynb",
   "provenance": []
  },
  "kernelspec": {
   "display_name": "Python 3 (ipykernel)",
   "language": "python",
   "name": "python3"
  },
  "language_info": {
   "codemirror_mode": {
    "name": "ipython",
    "version": 3
   },
   "file_extension": ".py",
   "mimetype": "text/x-python",
   "name": "python",
   "nbconvert_exporter": "python",
   "pygments_lexer": "ipython3",
   "version": "3.9.7"
  }
 },
 "nbformat": 4,
 "nbformat_minor": 4
}
